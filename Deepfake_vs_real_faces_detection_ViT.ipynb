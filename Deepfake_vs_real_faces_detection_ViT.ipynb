{
  "cells": [
    {
      "cell_type": "code",
      "execution_count": 2,
      "metadata": {
        "colab": {
          "base_uri": "https://localhost:8080/"
        },
        "id": "BW2GAxmUdUlT",
        "outputId": "7c6b7b38-a073-4bae-a877-10b49c1414e6"
      },
      "outputs": [
        {
          "name": "stdout",
          "output_type": "stream",
          "text": [
            "Mon Aug 11 02:58:20 2025       \n",
            "+-----------------------------------------------------------------------------------------+\n",
            "| NVIDIA-SMI 550.54.15              Driver Version: 550.54.15      CUDA Version: 12.4     |\n",
            "|-----------------------------------------+------------------------+----------------------+\n",
            "| GPU  Name                 Persistence-M | Bus-Id          Disp.A | Volatile Uncorr. ECC |\n",
            "| Fan  Temp   Perf          Pwr:Usage/Cap |           Memory-Usage | GPU-Util  Compute M. |\n",
            "|                                         |                        |               MIG M. |\n",
            "|=========================================+========================+======================|\n",
            "|   0  Tesla T4                       Off |   00000000:00:04.0 Off |                    0 |\n",
            "| N/A   65C    P8             12W /   70W |       0MiB /  15360MiB |      0%      Default |\n",
            "|                                         |                        |                  N/A |\n",
            "+-----------------------------------------+------------------------+----------------------+\n",
            "                                                                                         \n",
            "+-----------------------------------------------------------------------------------------+\n",
            "| Processes:                                                                              |\n",
            "|  GPU   GI   CI        PID   Type   Process name                              GPU Memory |\n",
            "|        ID   ID                                                               Usage      |\n",
            "|=========================================================================================|\n",
            "|  No running processes found                                                             |\n",
            "+-----------------------------------------------------------------------------------------+\n",
            "model name\t: Intel(R) Xeon(R) CPU @ 2.00GHz\n",
            "Total RAM: 13.61 GB\n",
            "Filesystem      Size  Used Avail Use% Mounted on\n",
            "overlay         113G   39G   74G  35% /\n"
          ]
        }
      ],
      "source": [
        "# GPU\n",
        "!nvidia-smi\n",
        "\n",
        "# CPU info\n",
        "!cat /proc/cpuinfo | grep 'model name' | uniq\n",
        "\n",
        "# RAM\n",
        "import psutil\n",
        "ram_gb = psutil.virtual_memory().total / 1e9\n",
        "print(f\"Total RAM: {ram_gb:.2f} GB\")\n",
        "\n",
        "# Disk info\n",
        "!df -h /"
      ]
    },
    {
      "cell_type": "code",
      "execution_count": 3,
      "metadata": {
        "id": "fUjGNi6GWWOD"
      },
      "outputs": [],
      "source": [
        "# from google.colab import files\n",
        "# uploaded = files.upload()"
      ]
    },
    {
      "cell_type": "code",
      "execution_count": 4,
      "metadata": {
        "id": "OJpweoOAWm7N"
      },
      "outputs": [],
      "source": [
        "# import zipfile\n",
        "# import os\n",
        "\n",
        "# # Giả sử tên tệp zip là your_file.zip\n",
        "# with zipfile.ZipFile('Dataset - Copy.zip', 'r') as zip_ref:\n",
        "#     zip_ref.extractall('sample_data')  # Chọn thư mục đích"
      ]
    },
    {
      "cell_type": "code",
      "execution_count": 5,
      "metadata": {
        "colab": {
          "base_uri": "https://localhost:8080/"
        },
        "id": "HYyqJlbaUz89",
        "outputId": "fc382ed3-5890-4e7c-d750-9d833414f567"
      },
      "outputs": [
        {
          "name": "stdout",
          "output_type": "stream",
          "text": [
            "Mounted at /content/drive\n"
          ]
        }
      ],
      "source": [
        "from google.colab import drive\n",
        "drive.mount('/content/drive')"
      ]
    },
    {
      "cell_type": "code",
      "execution_count": 6,
      "metadata": {
        "id": "D-_1UqiTxi4F"
      },
      "outputs": [],
      "source": [
        "# # Giải nén file zip\n",
        "# !unzip -q \"/content/drive/MyDrive/content/Dataset.zip\" -d \"/content/drive/MyDrive/\""
      ]
    },
    {
      "cell_type": "markdown",
      "metadata": {
        "id": "xudoBUv9kaLN"
      },
      "source": [
        "# Import libraries, load and transform data"
      ]
    },
    {
      "cell_type": "code",
      "execution_count": 7,
      "metadata": {
        "id": "19VJ-MdpkaLN"
      },
      "outputs": [],
      "source": [
        "# Cài đặt các gói Python cần thiết bằng pip\n",
        "\n",
        "# Sử dụng lệnh 'pip' để cài đặt các gói\n",
        "# '-q' có nghĩa là 'yên lặng', nghĩa là nó sẽ chặn hầu hết các đầu ra, làm cho quá trình cài đặt bớt rườm rà hơn\n",
        "# Cài đặt các gói\n",
        "# - 'evaluate': Gói này có thể được sử dụng cho mục đích đánh giá\n",
        "# - 'transformers': Gói này thường được sử dụng cho các tác vụ xử lý ngôn ngữ tự nhiên, chẳng hạn như làm việc với các mô hình ngôn ngữ được đào tạo trước như BERT hoặc GPT\n",
        "# - 'datasets': Gói này cung cấp quyền truy cập dễ dàng vào nhiều tập dữ liệu thường được sử dụng trong các tác vụ học máy và xử lý ngôn ngữ tự nhiên\n",
        "# - 'mlflow': MLflow là một nền tảng nguồn mở để quản lý vòng đời học máy từ đầu đến cuối, bao gồm theo dõi các thí nghiệm, đóng gói mã thành các lần chạy có thể tái tạo và chia sẻ và triển khai các mô hình\n",
        "\n",
        "!pip install -U -q evaluate transformers datasets>=2.14.5 accelerate>=0.27 2>/dev/null"
      ]
    },
    {
      "cell_type": "code",
      "execution_count": 8,
      "metadata": {
        "id": "npMJa0-KkaLO"
      },
      "outputs": [],
      "source": [
        "# Nhập các thư viện và mô-đun cần thiết\n",
        "import warnings  # Nhập mô-đun 'cảnh báo' để xử lý cảnh báo\n",
        "warnings.filterwarnings(\"ignore\")  # Bỏ qua các cảnh báo trong khi thực hiện\n",
        "\n",
        "import gc # Nhập mô-đun 'gc' để thu gom rác\n",
        "import numpy as np\n",
        "import pandas as pd\n",
        "import itertools  # Nhập 'itertools' cho trình lặp và vòng lặp\n",
        "from collections import Counter\n",
        "import matplotlib.pyplot as plt\n",
        "from sklearn.metrics import (\n",
        "    accuracy_score,\n",
        "    roc_auc_score,\n",
        "    confusion_matrix,\n",
        "    classification_report,\n",
        "    f1_score\n",
        ")\n",
        "\n",
        "# Nhập vào module và các lớp tùy chỉnh\n",
        "from imblearn.over_sampling import RandomOverSampler # import RandomOverSampler\n",
        "import accelerate # Import the 'accelerate' module\n",
        "import evaluate  # Import the 'evaluate' module\n",
        "from datasets import Dataset, Image, ClassLabel  # Import custom 'Dataset', 'ClassLabel', and 'Image' classes\n",
        "from transformers import (  # Import various modules from the Transformers library\n",
        "    TrainingArguments,  # For training arguments\n",
        "    Trainer,  # For model training\n",
        "    ViTImageProcessor,  # For processing image data with ViT models\n",
        "    ViTForImageClassification,  # ViT model for image classification\n",
        "    DefaultDataCollator  # For collating data in the default way\n",
        ")\n",
        "import torch  # Import PyTorch for deep learning\n",
        "from torch.utils.data import DataLoader  # For creating data loaders\n",
        "from torchvision.transforms import (  # Import image transformation functions\n",
        "    CenterCrop,  # Center crop an image\n",
        "    Compose,  # Compose multiple image transformations\n",
        "    Normalize,  # Normalize image pixel values\n",
        "    RandomRotation,  # Apply random rotation to images\n",
        "    RandomResizedCrop,  # Crop and resize images randomly\n",
        "    RandomHorizontalFlip,  # Apply random horizontal flip\n",
        "    RandomAdjustSharpness,  # Adjust sharpness randomly\n",
        "    Resize,  # Resize images\n",
        "    ToTensor  # Convert images to PyTorch tensors\n",
        ")"
      ]
    },
    {
      "cell_type": "code",
      "execution_count": 9,
      "metadata": {
        "id": "1UEx5pLVkaLO"
      },
      "outputs": [],
      "source": [
        "# Nhập mô-đun cần thiết từ Thư viện hình ảnh Python (PIL).\n",
        "from PIL import ImageFile\n",
        "\n",
        "ImageFile.LOAD_TRUNCATED_IMAGES = True"
      ]
    },
    {
      "cell_type": "code",
      "execution_count": 11,
      "metadata": {
        "colab": {
          "base_uri": "https://localhost:8080/"
        },
        "id": "zs_10192kaLO",
        "outputId": "5d65e18d-e9c3-4488-fc6f-67871d1218e2"
      },
      "outputs": [
        {
          "name": "stdout",
          "output_type": "stream",
          "text": [
            "13596 13596\n",
            "(13596, 2)\n"
          ]
        }
      ],
      "source": [
        "# use https://huggingface.co/docs/datasets/image_load for reference\n",
        "\n",
        "\n",
        "image_dict = {}\n",
        "\n",
        "\n",
        "from pathlib import Path\n",
        "from tqdm import tqdm\n",
        "import os\n",
        "\n",
        "# Khởi tạo danh sách trống để lưu trữ tên tệp và nhãn\n",
        "file_names = []\n",
        "labels = []\n",
        "\n",
        "# Lặp lại tất cả các tệp hình ảnh trong thư mục được chỉ định\n",
        "for file in sorted((Path('/content/drive/MyDrive/content/Dataset_1').glob('*/*/*.*'))):\n",
        "    label = str(file).split('/')[-2]  # Trích xuất nhãn từ đường dẫn tệp\n",
        "    labels.append(label)  # Thêm nhãn vào danh sách\n",
        "    file_names.append(str(file))  # Thêm đường dẫn tệp vào danh sách\n",
        "\n",
        "# In tổng số tên tệp và nhãn\n",
        "print(len(file_names), len(labels))\n",
        "\n",
        "# Tạo một dataframe từ các tên tệp và nhãn đã thu thập\n",
        "df = pd.DataFrame.from_dict({\"image\": file_names, \"label\": labels})\n",
        "print(df.shape)"
      ]
    },
    {
      "cell_type": "code",
      "execution_count": 12,
      "metadata": {
        "colab": {
          "base_uri": "https://localhost:8080/",
          "height": 206
        },
        "id": "K5cvhmSckaLP",
        "outputId": "cc5df56f-40cb-4db9-e848-28b31f487567"
      },
      "outputs": [
        {
          "data": {
            "application/vnd.google.colaboratory.intrinsic+json": {
              "summary": "{\n  \"name\": \"df\",\n  \"rows\": 13596,\n  \"fields\": [\n    {\n      \"column\": \"image\",\n      \"properties\": {\n        \"dtype\": \"string\",\n        \"num_unique_values\": 13596,\n        \"samples\": [\n          \"/content/drive/MyDrive/content/Dataset_1/Train/Fake/fake_1249.jpg\",\n          \"/content/drive/MyDrive/content/Dataset_1/Train/Fake/fake_3779.jpg\",\n          \"/content/drive/MyDrive/content/Dataset_1/Train/Fake/fake_3492.jpg\"\n        ],\n        \"semantic_type\": \"\",\n        \"description\": \"\"\n      }\n    },\n    {\n      \"column\": \"label\",\n      \"properties\": {\n        \"dtype\": \"category\",\n        \"num_unique_values\": 2,\n        \"samples\": [\n          \"Real\",\n          \"Fake\"\n        ],\n        \"semantic_type\": \"\",\n        \"description\": \"\"\n      }\n    }\n  ]\n}",
              "type": "dataframe",
              "variable_name": "df"
            },
            "text/html": [
              "\n",
              "  <div id=\"df-5204d67b-0fab-43f5-adbb-94c1f42a63ba\" class=\"colab-df-container\">\n",
              "    <div>\n",
              "<style scoped>\n",
              "    .dataframe tbody tr th:only-of-type {\n",
              "        vertical-align: middle;\n",
              "    }\n",
              "\n",
              "    .dataframe tbody tr th {\n",
              "        vertical-align: top;\n",
              "    }\n",
              "\n",
              "    .dataframe thead th {\n",
              "        text-align: right;\n",
              "    }\n",
              "</style>\n",
              "<table border=\"1\" class=\"dataframe\">\n",
              "  <thead>\n",
              "    <tr style=\"text-align: right;\">\n",
              "      <th></th>\n",
              "      <th>image</th>\n",
              "      <th>label</th>\n",
              "    </tr>\n",
              "  </thead>\n",
              "  <tbody>\n",
              "    <tr>\n",
              "      <th>0</th>\n",
              "      <td>/content/drive/MyDrive/content/Dataset_1/Test/...</td>\n",
              "      <td>Fake</td>\n",
              "    </tr>\n",
              "    <tr>\n",
              "      <th>1</th>\n",
              "      <td>/content/drive/MyDrive/content/Dataset_1/Test/...</td>\n",
              "      <td>Fake</td>\n",
              "    </tr>\n",
              "    <tr>\n",
              "      <th>2</th>\n",
              "      <td>/content/drive/MyDrive/content/Dataset_1/Test/...</td>\n",
              "      <td>Fake</td>\n",
              "    </tr>\n",
              "    <tr>\n",
              "      <th>3</th>\n",
              "      <td>/content/drive/MyDrive/content/Dataset_1/Test/...</td>\n",
              "      <td>Fake</td>\n",
              "    </tr>\n",
              "    <tr>\n",
              "      <th>4</th>\n",
              "      <td>/content/drive/MyDrive/content/Dataset_1/Test/...</td>\n",
              "      <td>Fake</td>\n",
              "    </tr>\n",
              "  </tbody>\n",
              "</table>\n",
              "</div>\n",
              "    <div class=\"colab-df-buttons\">\n",
              "\n",
              "  <div class=\"colab-df-container\">\n",
              "    <button class=\"colab-df-convert\" onclick=\"convertToInteractive('df-5204d67b-0fab-43f5-adbb-94c1f42a63ba')\"\n",
              "            title=\"Convert this dataframe to an interactive table.\"\n",
              "            style=\"display:none;\">\n",
              "\n",
              "  <svg xmlns=\"http://www.w3.org/2000/svg\" height=\"24px\" viewBox=\"0 -960 960 960\">\n",
              "    <path d=\"M120-120v-720h720v720H120Zm60-500h600v-160H180v160Zm220 220h160v-160H400v160Zm0 220h160v-160H400v160ZM180-400h160v-160H180v160Zm440 0h160v-160H620v160ZM180-180h160v-160H180v160Zm440 0h160v-160H620v160Z\"/>\n",
              "  </svg>\n",
              "    </button>\n",
              "\n",
              "  <style>\n",
              "    .colab-df-container {\n",
              "      display:flex;\n",
              "      gap: 12px;\n",
              "    }\n",
              "\n",
              "    .colab-df-convert {\n",
              "      background-color: #E8F0FE;\n",
              "      border: none;\n",
              "      border-radius: 50%;\n",
              "      cursor: pointer;\n",
              "      display: none;\n",
              "      fill: #1967D2;\n",
              "      height: 32px;\n",
              "      padding: 0 0 0 0;\n",
              "      width: 32px;\n",
              "    }\n",
              "\n",
              "    .colab-df-convert:hover {\n",
              "      background-color: #E2EBFA;\n",
              "      box-shadow: 0px 1px 2px rgba(60, 64, 67, 0.3), 0px 1px 3px 1px rgba(60, 64, 67, 0.15);\n",
              "      fill: #174EA6;\n",
              "    }\n",
              "\n",
              "    .colab-df-buttons div {\n",
              "      margin-bottom: 4px;\n",
              "    }\n",
              "\n",
              "    [theme=dark] .colab-df-convert {\n",
              "      background-color: #3B4455;\n",
              "      fill: #D2E3FC;\n",
              "    }\n",
              "\n",
              "    [theme=dark] .colab-df-convert:hover {\n",
              "      background-color: #434B5C;\n",
              "      box-shadow: 0px 1px 3px 1px rgba(0, 0, 0, 0.15);\n",
              "      filter: drop-shadow(0px 1px 2px rgba(0, 0, 0, 0.3));\n",
              "      fill: #FFFFFF;\n",
              "    }\n",
              "  </style>\n",
              "\n",
              "    <script>\n",
              "      const buttonEl =\n",
              "        document.querySelector('#df-5204d67b-0fab-43f5-adbb-94c1f42a63ba button.colab-df-convert');\n",
              "      buttonEl.style.display =\n",
              "        google.colab.kernel.accessAllowed ? 'block' : 'none';\n",
              "\n",
              "      async function convertToInteractive(key) {\n",
              "        const element = document.querySelector('#df-5204d67b-0fab-43f5-adbb-94c1f42a63ba');\n",
              "        const dataTable =\n",
              "          await google.colab.kernel.invokeFunction('convertToInteractive',\n",
              "                                                    [key], {});\n",
              "        if (!dataTable) return;\n",
              "\n",
              "        const docLinkHtml = 'Like what you see? Visit the ' +\n",
              "          '<a target=\"_blank\" href=https://colab.research.google.com/notebooks/data_table.ipynb>data table notebook</a>'\n",
              "          + ' to learn more about interactive tables.';\n",
              "        element.innerHTML = '';\n",
              "        dataTable['output_type'] = 'display_data';\n",
              "        await google.colab.output.renderOutput(dataTable, element);\n",
              "        const docLink = document.createElement('div');\n",
              "        docLink.innerHTML = docLinkHtml;\n",
              "        element.appendChild(docLink);\n",
              "      }\n",
              "    </script>\n",
              "  </div>\n",
              "\n",
              "\n",
              "    <div id=\"df-5b35b9a2-9f77-401e-8557-0a4e66f65ca1\">\n",
              "      <button class=\"colab-df-quickchart\" onclick=\"quickchart('df-5b35b9a2-9f77-401e-8557-0a4e66f65ca1')\"\n",
              "                title=\"Suggest charts\"\n",
              "                style=\"display:none;\">\n",
              "\n",
              "<svg xmlns=\"http://www.w3.org/2000/svg\" height=\"24px\"viewBox=\"0 0 24 24\"\n",
              "     width=\"24px\">\n",
              "    <g>\n",
              "        <path d=\"M19 3H5c-1.1 0-2 .9-2 2v14c0 1.1.9 2 2 2h14c1.1 0 2-.9 2-2V5c0-1.1-.9-2-2-2zM9 17H7v-7h2v7zm4 0h-2V7h2v10zm4 0h-2v-4h2v4z\"/>\n",
              "    </g>\n",
              "</svg>\n",
              "      </button>\n",
              "\n",
              "<style>\n",
              "  .colab-df-quickchart {\n",
              "      --bg-color: #E8F0FE;\n",
              "      --fill-color: #1967D2;\n",
              "      --hover-bg-color: #E2EBFA;\n",
              "      --hover-fill-color: #174EA6;\n",
              "      --disabled-fill-color: #AAA;\n",
              "      --disabled-bg-color: #DDD;\n",
              "  }\n",
              "\n",
              "  [theme=dark] .colab-df-quickchart {\n",
              "      --bg-color: #3B4455;\n",
              "      --fill-color: #D2E3FC;\n",
              "      --hover-bg-color: #434B5C;\n",
              "      --hover-fill-color: #FFFFFF;\n",
              "      --disabled-bg-color: #3B4455;\n",
              "      --disabled-fill-color: #666;\n",
              "  }\n",
              "\n",
              "  .colab-df-quickchart {\n",
              "    background-color: var(--bg-color);\n",
              "    border: none;\n",
              "    border-radius: 50%;\n",
              "    cursor: pointer;\n",
              "    display: none;\n",
              "    fill: var(--fill-color);\n",
              "    height: 32px;\n",
              "    padding: 0;\n",
              "    width: 32px;\n",
              "  }\n",
              "\n",
              "  .colab-df-quickchart:hover {\n",
              "    background-color: var(--hover-bg-color);\n",
              "    box-shadow: 0 1px 2px rgba(60, 64, 67, 0.3), 0 1px 3px 1px rgba(60, 64, 67, 0.15);\n",
              "    fill: var(--button-hover-fill-color);\n",
              "  }\n",
              "\n",
              "  .colab-df-quickchart-complete:disabled,\n",
              "  .colab-df-quickchart-complete:disabled:hover {\n",
              "    background-color: var(--disabled-bg-color);\n",
              "    fill: var(--disabled-fill-color);\n",
              "    box-shadow: none;\n",
              "  }\n",
              "\n",
              "  .colab-df-spinner {\n",
              "    border: 2px solid var(--fill-color);\n",
              "    border-color: transparent;\n",
              "    border-bottom-color: var(--fill-color);\n",
              "    animation:\n",
              "      spin 1s steps(1) infinite;\n",
              "  }\n",
              "\n",
              "  @keyframes spin {\n",
              "    0% {\n",
              "      border-color: transparent;\n",
              "      border-bottom-color: var(--fill-color);\n",
              "      border-left-color: var(--fill-color);\n",
              "    }\n",
              "    20% {\n",
              "      border-color: transparent;\n",
              "      border-left-color: var(--fill-color);\n",
              "      border-top-color: var(--fill-color);\n",
              "    }\n",
              "    30% {\n",
              "      border-color: transparent;\n",
              "      border-left-color: var(--fill-color);\n",
              "      border-top-color: var(--fill-color);\n",
              "      border-right-color: var(--fill-color);\n",
              "    }\n",
              "    40% {\n",
              "      border-color: transparent;\n",
              "      border-right-color: var(--fill-color);\n",
              "      border-top-color: var(--fill-color);\n",
              "    }\n",
              "    60% {\n",
              "      border-color: transparent;\n",
              "      border-right-color: var(--fill-color);\n",
              "    }\n",
              "    80% {\n",
              "      border-color: transparent;\n",
              "      border-right-color: var(--fill-color);\n",
              "      border-bottom-color: var(--fill-color);\n",
              "    }\n",
              "    90% {\n",
              "      border-color: transparent;\n",
              "      border-bottom-color: var(--fill-color);\n",
              "    }\n",
              "  }\n",
              "</style>\n",
              "\n",
              "      <script>\n",
              "        async function quickchart(key) {\n",
              "          const quickchartButtonEl =\n",
              "            document.querySelector('#' + key + ' button');\n",
              "          quickchartButtonEl.disabled = true;  // To prevent multiple clicks.\n",
              "          quickchartButtonEl.classList.add('colab-df-spinner');\n",
              "          try {\n",
              "            const charts = await google.colab.kernel.invokeFunction(\n",
              "                'suggestCharts', [key], {});\n",
              "          } catch (error) {\n",
              "            console.error('Error during call to suggestCharts:', error);\n",
              "          }\n",
              "          quickchartButtonEl.classList.remove('colab-df-spinner');\n",
              "          quickchartButtonEl.classList.add('colab-df-quickchart-complete');\n",
              "        }\n",
              "        (() => {\n",
              "          let quickchartButtonEl =\n",
              "            document.querySelector('#df-5b35b9a2-9f77-401e-8557-0a4e66f65ca1 button');\n",
              "          quickchartButtonEl.style.display =\n",
              "            google.colab.kernel.accessAllowed ? 'block' : 'none';\n",
              "        })();\n",
              "      </script>\n",
              "    </div>\n",
              "\n",
              "    </div>\n",
              "  </div>\n"
            ],
            "text/plain": [
              "                                               image label\n",
              "0  /content/drive/MyDrive/content/Dataset_1/Test/...  Fake\n",
              "1  /content/drive/MyDrive/content/Dataset_1/Test/...  Fake\n",
              "2  /content/drive/MyDrive/content/Dataset_1/Test/...  Fake\n",
              "3  /content/drive/MyDrive/content/Dataset_1/Test/...  Fake\n",
              "4  /content/drive/MyDrive/content/Dataset_1/Test/...  Fake"
            ]
          },
          "execution_count": 12,
          "metadata": {},
          "output_type": "execute_result"
        }
      ],
      "source": [
        "# In ra các giá trị đầu của dataframe\n",
        "df.head()"
      ]
    },
    {
      "cell_type": "code",
      "execution_count": 13,
      "metadata": {
        "colab": {
          "base_uri": "https://localhost:8080/"
        },
        "id": "E3OL-HpUkaLP",
        "outputId": "c3d8efd8-cd2b-438f-928a-78bee0010059"
      },
      "outputs": [
        {
          "data": {
            "text/plain": [
              "array(['Fake', 'Real'], dtype=object)"
            ]
          },
          "execution_count": 13,
          "metadata": {},
          "output_type": "execute_result"
        }
      ],
      "source": [
        "# In ra các label\n",
        "df['label'].unique()"
      ]
    },
    {
      "cell_type": "code",
      "execution_count": 14,
      "metadata": {
        "colab": {
          "base_uri": "https://localhost:8080/"
        },
        "id": "wfW3jZ6BkaLP",
        "outputId": "8db6cd5f-098d-4c70-f3a0-c4efe6fc14ff"
      },
      "outputs": [
        {
          "name": "stdout",
          "output_type": "stream",
          "text": [
            "(13606, 2)\n"
          ]
        }
      ],
      "source": [
        "# 'y' chứa biến mục tiêu (nhãn) muốn dự đoán\n",
        "y = df[['label']]\n",
        "\n",
        "# Xóa cột 'nhãn' khỏi DataFrame 'df' để tách các tính năng khỏi biến mục tiêu\n",
        "df = df.drop(['label'], axis=1)\n",
        "\n",
        "# Tạo một đối tượng RandomOverSampler với (random_state=83)\n",
        "ros = RandomOverSampler(random_state=83)\n",
        "\n",
        "# 'df' chứa dữ liệu đặc điểm và 'y_resampled' sẽ chứa biến mục tiêu được lấy mẫu lại\n",
        "df, y_resampled = ros.fit_resample(df, y)\n",
        "\n",
        "# Xóa biến 'y' ban đầu để tiết kiệm bộ nhớ vì nó không còn cần thiết nữa\n",
        "del y\n",
        "\n",
        "# Thêm biến mục tiêu được lấy mẫu lại 'y_resampled' làm cột 'nhãn' mới trong DataFrame 'df'\n",
        "df['label'] = y_resampled\n",
        "\n",
        "# Xóa biến 'y_resampled' để tiết kiệm bộ nhớ vì nó không còn cần thiết nữa\n",
        "del y_resampled\n",
        "\n",
        "# Thực hiện thu gom rác để giải phóng bộ nhớ được sử dụng bởi các biến bị loại bỏ\n",
        "gc.collect()\n",
        "\n",
        "print(df.shape)"
      ]
    },
    {
      "cell_type": "code",
      "execution_count": 15,
      "metadata": {
        "id": "ESddCLs8kaLP"
      },
      "outputs": [],
      "source": [
        "# Tạo một tập dữ liệu từ Pandas DataFrame.\n",
        "dataset = Dataset.from_pandas(df).cast_column(\"image\", Image())"
      ]
    },
    {
      "cell_type": "code",
      "execution_count": 16,
      "metadata": {
        "id": "A8a-8j5UkaLP"
      },
      "outputs": [],
      "source": [
        "# Display the first image in the dataset\n",
        "# dataset[0][\"image\"]"
      ]
    },
    {
      "cell_type": "code",
      "execution_count": 17,
      "metadata": {
        "colab": {
          "base_uri": "https://localhost:8080/"
        },
        "id": "60s5g5dekaLQ",
        "outputId": "ae6f98f3-4310-420c-db70-47f7b36d22d3"
      },
      "outputs": [
        {
          "name": "stdout",
          "output_type": "stream",
          "text": [
            "['Fake', 'Fake', 'Fake', 'Fake', 'Fake']\n"
          ]
        }
      ],
      "source": [
        "# Hiển thị 5 phần tử đầu tiên\n",
        "labels_subset = labels[:5]\n",
        "\n",
        "# Printing the subset of labels to inspect the content.\n",
        "print(labels_subset)"
      ]
    },
    {
      "cell_type": "code",
      "execution_count": 18,
      "metadata": {
        "colab": {
          "base_uri": "https://localhost:8080/"
        },
        "id": "FZjrMFd6kaLQ",
        "outputId": "0e4ed160-0dd9-4869-a449-9ad6449c5ffc"
      },
      "outputs": [
        {
          "name": "stdout",
          "output_type": "stream",
          "text": [
            "Mapping of IDs to Labels: {0: 'Real', 1: 'Fake'} \n",
            "\n",
            "Mapping of Labels to IDs: {'Real': 0, 'Fake': 1}\n"
          ]
        }
      ],
      "source": [
        "# Tạo danh sách các nhãn duy nhất bằng cách chuyển đổi 'label' thành một tập hợp rồi chuyển lại thành danh sách\n",
        "labels_list = ['Real', 'Fake'] # list(set(labels))\n",
        "\n",
        "# Khởi tạo các từ điển trống để ánh xạ nhãn thành ID và ngược lại\n",
        "label2id, id2label = dict(), dict()\n",
        "\n",
        "# Lặp lại các nhãn duy nhất và gán cho mỗi nhãn một ID, và ngược lại\n",
        "for i, label in enumerate(labels_list):\n",
        "    label2id[label] = i  # Ánh xạ nhãn tới ID tương ứng của nó\n",
        "    id2label[i] = label  # Ánh xạ ID tới nhãn tương ứng của nó\n",
        "\n",
        "# In các từ điển kết quả để tham khảo\n",
        "print(\"Mapping of IDs to Labels:\", id2label, '\\n')\n",
        "print(\"Mapping of Labels to IDs:\", label2id)"
      ]
    },
    {
      "cell_type": "code",
      "execution_count": 19,
      "metadata": {
        "colab": {
          "base_uri": "https://localhost:8080/",
          "height": 81,
          "referenced_widgets": [
            "6c45be90137a4b40b108fe27fe008162",
            "8c67bb2c791d4d6f9dc2ff136332d9cd",
            "3c0dcd4c2ff14f13be5b815bfe3c9aeb",
            "fbc1f77b36b94bb0a4315391369ba5fb",
            "2cdb8179ed544e24a04664a5ee4aeca9",
            "f6d516942b50418d9aa365e18e2bf8a7",
            "0022ec9affe1486d967ee67f096676a8",
            "ea23eb8d5b0b4088825bfd1c5b04cd6f",
            "9f9175bef7f3438f9e49407e5cf3be9a",
            "a21f4984844c44cfbed4d94631f90b95",
            "ca5a73da8d05499db74be7b6503d5bda",
            "cc4d2ea9cb7e45bebc481a6dfdc01331",
            "2c31252b0c0c439bad3116273e14cd06",
            "2c668649a66d4a76a0d4d34e3e906d27",
            "8e7abc45f7b745618f02be6473cb030f",
            "9b562759ca894b7e9d622b04a7bd79fe",
            "58da6e93de6c4906b91b26812a31df23",
            "28cdfa5cc840425b9a4c7a10258a3b4d",
            "16b5e56f1dbf49e8bb3575e82c3508be",
            "4f6bb62c8efa485f855ab8ccc628f3eb",
            "20e47ce9f70145a89ab08363d9c65716",
            "a2697f60b5934e8aa56ca885c488cfd6"
          ]
        },
        "id": "99zB7OkukaLQ",
        "outputId": "9010be2b-780d-4ca1-e324-2287f5a1fe10"
      },
      "outputs": [
        {
          "data": {
            "application/vnd.jupyter.widget-view+json": {
              "model_id": "6c45be90137a4b40b108fe27fe008162",
              "version_major": 2,
              "version_minor": 0
            },
            "text/plain": [
              "Map:   0%|          | 0/13606 [00:00<?, ? examples/s]"
            ]
          },
          "metadata": {},
          "output_type": "display_data"
        },
        {
          "data": {
            "application/vnd.jupyter.widget-view+json": {
              "model_id": "cc4d2ea9cb7e45bebc481a6dfdc01331",
              "version_major": 2,
              "version_minor": 0
            },
            "text/plain": [
              "Casting the dataset:   0%|          | 0/13606 [00:00<?, ? examples/s]"
            ]
          },
          "metadata": {},
          "output_type": "display_data"
        }
      ],
      "source": [
        "# Tạo nhãn lớp để khớp nhãn với ID\n",
        "ClassLabels = ClassLabel(num_classes=len(labels_list), names=labels_list)\n",
        "\n",
        "# Ánh xạ nhãn với ID\n",
        "def map_label2id(example):\n",
        "    example['label'] = ClassLabels.str2int(example['label'])\n",
        "    return example\n",
        "\n",
        "dataset = dataset.map(map_label2id, batched=True)\n",
        "\n",
        "# Ép kiểu cột nhãn thành đối tượng ClassLabel\n",
        "dataset = dataset.cast_column('label', ClassLabels)\n",
        "\n",
        "# Chia tập dữ liệu thành tập huấn luyện và tập kiểm tra bằng tỷ lệ chia 60-40.\n",
        "dataset = dataset.train_test_split(test_size=0.4, shuffle=True, stratify_by_column=\"label\")\n",
        "\n",
        "# Trích xuất dữ liệu đào tạo từ tập dữ liệu phân tách.\n",
        "train_data = dataset['train']\n",
        "\n",
        "# Trích xuất dữ liệu thử nghiệm từ tập dữ liệu phân tách.\n",
        "test_data = dataset['test']"
      ]
    },
    {
      "cell_type": "code",
      "execution_count": 20,
      "metadata": {
        "colab": {
          "base_uri": "https://localhost:8080/",
          "height": 66,
          "referenced_widgets": [
            "90267ef43b944c8b8fa151d9743d5982",
            "3785c5deb94445638a6741795d6dad47",
            "553dc700f10441f6957c060f6be4254b",
            "94d698a7cba1401e8ab3e289527636d7",
            "589dafb62a8c4393ae139c616ceeaa65",
            "33cef0b91f7d457789603f4f1ba99cd1",
            "5b8a7dd72d5b4dfebc7fc3523c6d6dbb",
            "0817508f2ab64f10ad87f3faaf2879dc",
            "b0c1469a52254814a68ca8a63f532112",
            "2c9f22a78a0244cdb145281a7b1e734d",
            "0ca825fa61ac42218919361924f72f48"
          ]
        },
        "id": "iUGv_ftDkaLQ",
        "outputId": "ed8d4546-0ef3-4ecb-c63f-6a8114f5b4c7"
      },
      "outputs": [
        {
          "data": {
            "application/vnd.jupyter.widget-view+json": {
              "model_id": "90267ef43b944c8b8fa151d9743d5982",
              "version_major": 2,
              "version_minor": 0
            },
            "text/plain": [
              "preprocessor_config.json:   0%|          | 0.00/325 [00:00<?, ?B/s]"
            ]
          },
          "metadata": {},
          "output_type": "display_data"
        },
        {
          "name": "stdout",
          "output_type": "stream",
          "text": [
            "Size:  224\n"
          ]
        }
      ],
      "source": [
        "# Xác định chuỗi mô hình ViT được đào tạo trước\n",
        "model_str = \"dima806/deepfake_vs_real_image_detection\" # 'google/vit-base-patch16-224-in21k'\n",
        "# model_str = \"google/vit-base-patch16-224-in21k\"\n",
        "\n",
        "# Tạo bộ xử lý cho đầu vào mô hình ViT từ mô hình được đào tạo trước\n",
        "processor = ViTImageProcessor.from_pretrained(model_str)\n",
        "\n",
        "# Lấy giá trị trung bình và độ lệch chuẩn của hình ảnh được sử dụng để chuẩn hóa\n",
        "image_mean, image_std = processor.image_mean, processor.image_std\n",
        "\n",
        "# Lấy kích thước (chiều cao) của hình ảnh đầu vào của mô hình ViT\n",
        "size = processor.size[\"height\"]\n",
        "print(\"Size: \", size)\n",
        "\n",
        "# Xác định phép biến đổi chuẩn hóa cho hình ảnh đầu vào\n",
        "normalize = Normalize(mean=image_mean, std=image_std)\n",
        "\n",
        "# Xác định một tập hợp các phép biến đổi cho training data\n",
        "_train_transforms = Compose(\n",
        "    [\n",
        "        Resize((size, size)),             # Thay đổi kích thước hình ảnh theo kích thước đầu vào của mô hình ViT\n",
        "        RandomRotation(90),               # Áp dụng phép quay ngẫu nhiên\n",
        "        RandomAdjustSharpness(2),         # Điều chỉnh độ sắc nét ngẫu nhiên\n",
        "        ToTensor(),                       # Chuyển đổi hình ảnh thành tensors\n",
        "        normalize                         # Chuẩn hóa hình ảnh bằng cách sử dụng giá trị trung bình và giá trị chuẩn\n",
        "    ]\n",
        ")\n",
        "\n",
        "# Xác định một tập hợp các phép biến đổi cho validation data\n",
        "_val_transforms = Compose(\n",
        "    [\n",
        "        Resize((size, size)),             # Thay đổi kích thước hình ảnh theo kích thước đầu vào của mô hình ViT\n",
        "        ToTensor(),                       # Chuyển đổi hình ảnh sang tensors\n",
        "        normalize                         # Chuẩn hóa hình ảnh bằng cách sử dụng giá trị trung bình và giá trị chuẩn\n",
        "    ]\n",
        ")\n",
        "\n",
        "# Xác định một hàm để áp dụng các phép biến đổi đào tạo cho một loạt ví dụ\n",
        "def train_transforms(examples):\n",
        "    examples['pixel_values'] = [_train_transforms(image.convert(\"RGB\")) for image in examples['image']]\n",
        "    return examples\n",
        "\n",
        "# Xác định một hàm để áp dụng các phép biến đổi xác thực cho một loạt ví dụ\n",
        "def val_transforms(examples):\n",
        "    examples['pixel_values'] = [_val_transforms(image.convert(\"RGB\")) for image in examples['image']]\n",
        "    return examples"
      ]
    },
    {
      "cell_type": "code",
      "execution_count": 21,
      "metadata": {
        "id": "z5PlkJ2pkaLQ"
      },
      "outputs": [],
      "source": [
        "# Thiết lập các chuyển đổi cho training data\n",
        "train_data.set_transform(train_transforms)\n",
        "\n",
        "# Thiết lập chuyển đổi cho test/validation data\n",
        "test_data.set_transform(val_transforms)"
      ]
    },
    {
      "cell_type": "code",
      "execution_count": 22,
      "metadata": {
        "id": "j9EMK51LkaLQ"
      },
      "outputs": [],
      "source": [
        "# Xác định hàm đối chiếu chuẩn bị dữ liệu theo batched để đào tạo mô hình.\n",
        "def collate_fn(examples):\n",
        "    # Xếp chồng các giá trị pixel từ các ví dụ riêng lẻ thành một tensor duy nhất.\n",
        "    pixel_values = torch.stack([example[\"pixel_values\"] for example in examples])\n",
        "\n",
        "    # Chuyển đổi chuỗi nhãn trong ví dụ thành ID số tương ứng bằng cách sử dụng từ điển label2id.\n",
        "    labels = torch.tensor([example['label'] for example in examples])\n",
        "\n",
        "    # Trả về một từ điển chứa các nhãn và giá trị pixel được xử lý theo batched\n",
        "    return {\"pixel_values\": pixel_values, \"labels\": labels}"
      ]
    },
    {
      "cell_type": "markdown",
      "metadata": {
        "id": "XdYqCi0QkaLQ"
      },
      "source": [
        "# Load, train, and evaluate model"
      ]
    },
    {
      "cell_type": "code",
      "execution_count": 23,
      "metadata": {
        "colab": {
          "base_uri": "https://localhost:8080/",
          "height": 98,
          "referenced_widgets": [
            "bd8487b6b725411b8be982c5f8d77bfa",
            "c30c7feb2375423894103713b6710d79",
            "876d95be3b7d4316a395746ff3c72ea4",
            "b5d7afb041144c5e935e88c6dd92f666",
            "75608cd2bf2c40c18a3399be32eda2bb",
            "65a86e2cd457449f8dff33d29bc04bcb",
            "f2013bd35df04b8e9268e89adebcef70",
            "3eae2082967946e9a7f8ca15a33bd46d",
            "0ee38dad1fe94219b18b8aca0c8e6d31",
            "f99736905dc04ff392410ec62fb79585",
            "989f5d944e034cd2a66a8e95ffcbb4e1",
            "ce681056a97740faba3eb85b298fd595",
            "0d5c7f627ca14595aa976006ba07a936",
            "7abf610fc2ce4b01bff7cde05023ad8c",
            "0429e55b78de4a7483e9b322fec68d66",
            "0a81598fd4e747ea972865200b1e9330",
            "3c632574970245339d6f203af3cf2a97",
            "212523e8f266478db33a0be3a5751d9a",
            "0ef566c017914837a981ce0981338409",
            "b0003780b7fa4c6ea736de9363ef3bf0",
            "5b5f29d528cc40be9bc7be0c987dde60",
            "7454a259a9b44ab6b4518904da30b4e5"
          ]
        },
        "id": "QM556VC8kaLQ",
        "outputId": "6b7ec9f4-a4b7-41d1-b261-fc39c17bb7ae"
      },
      "outputs": [
        {
          "data": {
            "application/vnd.jupyter.widget-view+json": {
              "model_id": "bd8487b6b725411b8be982c5f8d77bfa",
              "version_major": 2,
              "version_minor": 0
            },
            "text/plain": [
              "config.json:   0%|          | 0.00/726 [00:00<?, ?B/s]"
            ]
          },
          "metadata": {},
          "output_type": "display_data"
        },
        {
          "data": {
            "application/vnd.jupyter.widget-view+json": {
              "model_id": "ce681056a97740faba3eb85b298fd595",
              "version_major": 2,
              "version_minor": 0
            },
            "text/plain": [
              "model.safetensors:   0%|          | 0.00/343M [00:00<?, ?B/s]"
            ]
          },
          "metadata": {},
          "output_type": "display_data"
        },
        {
          "name": "stdout",
          "output_type": "stream",
          "text": [
            "85.800194\n"
          ]
        }
      ],
      "source": [
        "# Tạo mô hình ViTForImageClassification từ điểm kiểm tra được đào tạo trước với số lượng nhãn đầu ra được chỉ định.\n",
        "model = ViTForImageClassification.from_pretrained(model_str, num_labels=len(labels_list))\n",
        "\n",
        "# Cấu hình ánh xạ nhãn lớp tới các chỉ mục tương ứng để tham khảo sau.\n",
        "model.config.id2label = id2label\n",
        "model.config.label2id = label2id\n",
        "\n",
        "# Tính toán và in ra số lượng tham số có thể đào tạo được tính bằng triệu cho mô hình.\n",
        "print(model.num_parameters(only_trainable=True) / 1e6)"
      ]
    },
    {
      "cell_type": "code",
      "execution_count": 24,
      "metadata": {
        "colab": {
          "base_uri": "https://localhost:8080/",
          "height": 49,
          "referenced_widgets": [
            "15ce523a35c9438b977e4c25766c5177",
            "da661815a2284825bb5940d05e1238cb",
            "b25632d7d0d94b4cbed77672d48b33d4",
            "2f59e34734fe4ee692a7398279f8fe26",
            "1d4f337059934e17820c206305fdc502",
            "93971d68ce894ccdad55c30c24f61c9a",
            "9250846d8ea94e239ac9e6b588dc7f29",
            "8bea19f12566458a917c2e18712e4cf7",
            "bb45a57f60a741c4b2b73e208e5500ec",
            "e39f05c451e14dba877a5bdf1ce0ec20",
            "69810842441f42e8aa7bb75b88d92aa8"
          ]
        },
        "id": "adZGmLdwkaLQ",
        "outputId": "674e8258-6a5c-4ca4-ac4b-4abf33e50a5f"
      },
      "outputs": [
        {
          "data": {
            "application/vnd.jupyter.widget-view+json": {
              "model_id": "15ce523a35c9438b977e4c25766c5177",
              "version_major": 2,
              "version_minor": 0
            },
            "text/plain": [
              "Downloading builder script: 0.00B [00:00, ?B/s]"
            ]
          },
          "metadata": {},
          "output_type": "display_data"
        }
      ],
      "source": [
        "# Tải số accuracy metric từ mô-đun 'evaluate'\n",
        "accuracy = evaluate.load(\"accuracy\")\n",
        "\n",
        "# Xác định hàm 'compute_metrics' để tính toán số liệu đánh giá\n",
        "def compute_metrics(eval_pred):\n",
        "    # Trích xuất dự đoán mô hình từ đối tượng dự đoán đánh giá\n",
        "    predictions = eval_pred.predictions\n",
        "\n",
        "    # Trích xuất nhãn thực từ đối tượng dự đoán đánh giá\n",
        "    label_ids = eval_pred.label_ids\n",
        "\n",
        "    # Chuyển đổi dự đoán mô hình thành nhãn lớp bằng cách chọn lớp có xác suất cao nhất (argmax)\n",
        "    predicted_labels = predictions.argmax(axis=1)\n",
        "\n",
        "    # Tính accuracu score bằng cách so sánh nhãn dự đoán với nhãn thực\n",
        "    acc_score = accuracy.compute(predictions=predicted_labels, references=label_ids)['accuracy']\n",
        "\n",
        "    # Trả về độ chính xác được tính toán dưới dạng từ điển với khóa \"accuracy\"\n",
        "    return {\n",
        "        \"accuracy\": acc_score\n",
        "    }\n"
      ]
    },
    {
      "cell_type": "code",
      "execution_count": 25,
      "metadata": {
        "id": "VOkr7Lw2kaLQ"
      },
      "outputs": [],
      "source": [
        "# Xác định tên của số liệu đánh giá sẽ được sử dụng trong quá trình đào tạo và đánh giá.\n",
        "metric_name = \"accuracy\"\n",
        "\n",
        "# Xác định tên của mô hình, tên này sẽ được sử dụng để tạo thư mục lưu các điểm kiểm tra và đầu ra của mô hình.\n",
        "model_name = \"Manh_deepfake_vs_real_image_detection_Manh\"\n",
        "\n",
        "# Xác định số lượng epochs đào tạo cho mô hình\n",
        "num_train_epochs = 2\n",
        "\n",
        "# Tạo một phiên bản TrainingArguments để cấu hình cài đặt đào tạo.\n",
        "args = TrainingArguments(\n",
        "    # Chỉ định thư mục nơi các điểm kiểm tra và đầu ra của mô hình sẽ được lưu.\n",
        "    output_dir=model_name,\n",
        "\n",
        "    # Chỉ định thư mục nơi training logs sẽ được lưu trữ.\n",
        "    logging_dir='./logs',\n",
        "\n",
        "    # Xác định chiến lược đánh giá được thực hiện vào cuối mỗi epoch.\n",
        "    # evaluation_strategy=\"epoch\",\n",
        "    eval_strategy=\"epoch\",\n",
        "\n",
        "    # Thiết lập learning rate cho trình tối ưu hóa.\n",
        "    learning_rate=1e-6,\n",
        "\n",
        "    # Xác định batch size để đào tạo trên mỗi thiết bị.\n",
        "    per_device_train_batch_size=32,\n",
        "\n",
        "    # Xác định batch size để đánh giá trên mỗi thiết bị.\n",
        "    per_device_eval_batch_size=8,\n",
        "\n",
        "    # Chỉ định tổng số training epochs.\n",
        "    num_train_epochs=num_train_epochs,\n",
        "\n",
        "    # Áp dụng weight decay để ngăn ngừa tình trạng overfitting.\n",
        "    weight_decay=0.02,\n",
        "\n",
        "    # Thiết lập số bước warmup cho bộ lập lịch learning rate.\n",
        "    warmup_steps=50,\n",
        "\n",
        "    # Vô hiệu hóa việc xóa các cột không sử dụng khỏi tập dữ liệu.\n",
        "    remove_unused_columns=False,\n",
        "\n",
        "    # Xác định chiến lược để lưu các điểm kiểm tra mô hình (mỗi epoch trong mỗi trường hợp).\n",
        "    save_strategy='epoch',\n",
        "\n",
        "    # Tải mô hình tốt nhất vào cuối quá trình đào tạo.\n",
        "    load_best_model_at_end=True,\n",
        "\n",
        "    # Giới hạn tổng số điểm kiểm tra đã lưu để tiết kiệm dung lượng.\n",
        "    save_total_limit=1,\n",
        "\n",
        "    # Chỉ rõ rằng tiến trình đào tạo không nên được báo cáo.\n",
        "    report_to=\"none\"\n",
        ")"
      ]
    },
    {
      "cell_type": "code",
      "execution_count": 26,
      "metadata": {
        "id": "6BNhLt65kaLQ"
      },
      "outputs": [],
      "source": [
        "# Tạo một phiên bản Trainer để tinh chỉnh mô hình ngôn ngữ.\n",
        "\n",
        "# - `model`: Mô hình ngôn ngữ pre-trained sẽ được tinh chỉnh.\n",
        "# - `args`: Thiết lập cấu hình và siêu tham số để đào tạo.\n",
        "# - `train_dataset`: Bộ dữ liệu được sử dụng để đào tạo mô hình.\n",
        "# - `eval_dataset`: Bộ dữ liệu được sử dụng để đánh giá mô hình trong quá trình đào tạo.\n",
        "# - `data_collator`: Một hàm xác định cách thức tập hợp và xử lý các batchs dữ liệu.\n",
        "# - `compute_metrics`: Một chức năng để tính toán metrics đánh giá tùy chỉnh.\n",
        "# - `tokenizer`: Công cụ phân tích được sử dụng để xử lý dữ liệu văn bản.\n",
        "\n",
        "trainer = Trainer(\n",
        "    model,\n",
        "    args,\n",
        "    train_dataset=train_data,\n",
        "    eval_dataset=test_data,\n",
        "    data_collator=collate_fn,\n",
        "    compute_metrics=compute_metrics,\n",
        "    tokenizer=processor,\n",
        ")"
      ]
    },
    {
      "cell_type": "code",
      "execution_count": 27,
      "metadata": {
        "colab": {
          "base_uri": "https://localhost:8080/",
          "height": 54
        },
        "id": "bWrZuCLZkaLQ",
        "outputId": "b040f5c9-fdf7-4e34-ce57-5943e40788c1"
      },
      "outputs": [
        {
          "data": {
            "text/html": [
              "\n",
              "    <div>\n",
              "      \n",
              "      <progress value='681' max='681' style='width:300px; height:20px; vertical-align: middle;'></progress>\n",
              "      [681/681 26:15]\n",
              "    </div>\n",
              "    "
            ],
            "text/plain": [
              "<IPython.core.display.HTML object>"
            ]
          },
          "metadata": {},
          "output_type": "display_data"
        },
        {
          "name": "stdout",
          "output_type": "stream",
          "text": [
            "Thời gian chạy: 1583.85 giây\n"
          ]
        }
      ],
      "source": [
        "# Đánh giá hiệu suất của mô hình đào tạo trước trên test dataset.\n",
        "# Hàm tính toán nhiều số liệu khác nhau như accuracy, loss, etc.,\n",
        "\n",
        "# trainer.evaluate()\n",
        "import time\n",
        "\n",
        "# Bắt đầu đo thời gian\n",
        "start_time = time.time()\n",
        "\n",
        "# Thực thi lệnh evaluate\n",
        "trainer.evaluate()\n",
        "\n",
        "# Kết thúc đo thời gian\n",
        "end_time = time.time()\n",
        "\n",
        "# Tính toán thời gian chạy\n",
        "execution_time = end_time - start_time\n",
        "\n",
        "# In ra thời gian chạy\n",
        "print(f\"Thời gian chạy: {execution_time:.2f} giây\")"
      ]
    },
    {
      "cell_type": "code",
      "execution_count": 28,
      "metadata": {
        "colab": {
          "base_uri": "https://localhost:8080/",
          "height": 193
        },
        "id": "OmFyvo3ckaLR",
        "outputId": "af979d4e-afba-465d-de52-4b1b00301528"
      },
      "outputs": [
        {
          "data": {
            "text/html": [
              "\n",
              "    <div>\n",
              "      \n",
              "      <progress value='512' max='512' style='width:300px; height:20px; vertical-align: middle;'></progress>\n",
              "      [512/512 47:21, Epoch 2/2]\n",
              "    </div>\n",
              "    <table border=\"1\" class=\"dataframe\">\n",
              "  <thead>\n",
              " <tr style=\"text-align: left;\">\n",
              "      <th>Epoch</th>\n",
              "      <th>Training Loss</th>\n",
              "      <th>Validation Loss</th>\n",
              "      <th>Model Preparation Time</th>\n",
              "      <th>Accuracy</th>\n",
              "    </tr>\n",
              "  </thead>\n",
              "  <tbody>\n",
              "    <tr>\n",
              "      <td>1</td>\n",
              "      <td>No log</td>\n",
              "      <td>0.027566</td>\n",
              "      <td>0.004900</td>\n",
              "      <td>0.991365</td>\n",
              "    </tr>\n",
              "    <tr>\n",
              "      <td>2</td>\n",
              "      <td>0.041800</td>\n",
              "      <td>0.026894</td>\n",
              "      <td>0.004900</td>\n",
              "      <td>0.991549</td>\n",
              "    </tr>\n",
              "  </tbody>\n",
              "</table><p>"
            ],
            "text/plain": [
              "<IPython.core.display.HTML object>"
            ]
          },
          "metadata": {},
          "output_type": "display_data"
        },
        {
          "data": {
            "text/html": [
              "\n",
              "    <div>\n",
              "      \n",
              "      <progress value='1362' max='681' style='width:300px; height:20px; vertical-align: middle;'></progress>\n",
              "      [681/681 1:06:31]\n",
              "    </div>\n",
              "    "
            ],
            "text/plain": [
              "<IPython.core.display.HTML object>"
            ]
          },
          "metadata": {},
          "output_type": "display_data"
        },
        {
          "data": {
            "text/plain": [
              "TrainOutput(global_step=512, training_loss=0.04156364465598017, metrics={'train_runtime': 2857.9671, 'train_samples_per_second': 5.712, 'train_steps_per_second': 0.179, 'total_flos': 1.265134222447829e+18, 'train_loss': 0.04156364465598017, 'epoch': 2.0})"
            ]
          },
          "execution_count": 28,
          "metadata": {},
          "output_type": "execute_result"
        }
      ],
      "source": [
        "# Bắt đầu đào tạo mô hình bằng cách sử dụng đối tượng đào tạo.\n",
        "trainer.train()"
      ]
    },
    {
      "cell_type": "code",
      "execution_count": 29,
      "metadata": {
        "colab": {
          "base_uri": "https://localhost:8080/",
          "height": 158
        },
        "id": "uv81SQTCkaLR",
        "outputId": "11ca4263-6d43-4f3a-922a-06153ebbf4f7"
      },
      "outputs": [
        {
          "data": {
            "text/html": [
              "\n",
              "    <div>\n",
              "      \n",
              "      <progress value='681' max='681' style='width:300px; height:20px; vertical-align: middle;'></progress>\n",
              "      [681/681 01:17]\n",
              "    </div>\n",
              "    "
            ],
            "text/plain": [
              "<IPython.core.display.HTML object>"
            ]
          },
          "metadata": {},
          "output_type": "display_data"
        },
        {
          "data": {
            "text/plain": [
              "{'eval_loss': 0.026893941685557365,\n",
              " 'eval_model_preparation_time': 0.0049,\n",
              " 'eval_accuracy': 0.9915487782472902,\n",
              " 'eval_runtime': 78.1879,\n",
              " 'eval_samples_per_second': 69.614,\n",
              " 'eval_steps_per_second': 8.71,\n",
              " 'epoch': 2.0}"
            ]
          },
          "execution_count": 29,
          "metadata": {},
          "output_type": "execute_result"
        }
      ],
      "source": [
        "# Đánh giá hiệu suất của mô hình sau khi đào tạo trên validation or test dataset.\n",
        "# Hàm tính toán nhiều số liệu đánh giá khác nhau như accuracy, loss, etc.\n",
        "# cung cấp thông tin chi tiết về hiệu suất của mô hình.\n",
        "\n",
        "trainer.evaluate()"
      ]
    },
    {
      "cell_type": "code",
      "execution_count": 30,
      "metadata": {
        "colab": {
          "base_uri": "https://localhost:8080/",
          "height": 54
        },
        "id": "elr4jvUdkaLR",
        "outputId": "64381091-5ccd-4d2f-8d7e-4358caada43f"
      },
      "outputs": [
        {
          "data": {
            "text/html": [],
            "text/plain": [
              "<IPython.core.display.HTML object>"
            ]
          },
          "metadata": {},
          "output_type": "display_data"
        },
        {
          "name": "stdout",
          "output_type": "stream",
          "text": [
            "{'test_loss': 0.026893941685557365, 'test_model_preparation_time': 0.0049, 'test_accuracy': 0.9915487782472902, 'test_runtime': 78.0908, 'test_samples_per_second': 69.701, 'test_steps_per_second': 8.721}\n"
          ]
        }
      ],
      "source": [
        "# Sử dụng 'trainer' đã được đào tạo để đưa ra dự đoán về 'test_data'.\n",
        "outputs = trainer.predict(test_data)\n",
        "\n",
        "\n",
        "# In các số liệu thu được từ kết quả dự đoán.\n",
        "print(outputs.metrics)"
      ]
    },
    {
      "cell_type": "code",
      "execution_count": 31,
      "metadata": {
        "colab": {
          "base_uri": "https://localhost:8080/",
          "height": 850
        },
        "id": "6VHSSsXhkaLR",
        "outputId": "e00672e4-1dc4-4875-dd36-01b93bc20e99"
      },
      "outputs": [
        {
          "name": "stdout",
          "output_type": "stream",
          "text": [
            "Accuracy: 0.9915\n",
            "F1 Score: 0.9915\n"
          ]
        },
        {
          "data": {
            "image/png": "[encoded data removed]",
            "text/plain": [
              "<Figure size 800x600 with 2 Axes>"
            ]
          },
          "metadata": {},
          "output_type": "display_data"
        },
        {
          "name": "stdout",
          "output_type": "stream",
          "text": [
            "\n",
            "Classification report:\n",
            "\n",
            "              precision    recall  f1-score   support\n",
            "\n",
            "        Real     0.9905    0.9926    0.9916      2721\n",
            "        Fake     0.9926    0.9904    0.9915      2722\n",
            "\n",
            "    accuracy                         0.9915      5443\n",
            "   macro avg     0.9916    0.9915    0.9915      5443\n",
            "weighted avg     0.9916    0.9915    0.9915      5443\n",
            "\n"
          ]
        }
      ],
      "source": [
        "# Trích xuất các nhãn thực từ đầu ra của mô hình\n",
        "y_true = outputs.label_ids\n",
        "\n",
        "# Dự đoán các nhãn bằng cách chọn lớp có xác suất cao nhất\n",
        "y_pred = outputs.predictions.argmax(1)\n",
        "\n",
        "# Xác định một hàm để vẽ ma trận nhầm lẫn\n",
        "def plot_confusion_matrix(cm, classes, title='Confusion Matrix', cmap=plt.cm.Blues, figsize=(10, 8)):\n",
        "    \"\"\"\n",
        "    This function plots a confusion matrix.\n",
        "\n",
        "    Parameters:\n",
        "        cm (array-like): Ma trận nhầm lẫn được trả về bởi sklearn.metrics.confusion_matrix.\n",
        "        classes (list): Danh sách tên lớp ['Class 0', 'Class 1'].\n",
        "        title (str): Tiêu đề cho biểu đồ.\n",
        "        cmap (matplotlib colormap): Bản đồ màu cho biểu đồ.\n",
        "    \"\"\"\n",
        "    # Tạo một hình có kích thước xác định\n",
        "    plt.figure(figsize=figsize)\n",
        "\n",
        "    # Hiển thị ma trận nhầm lẫn dưới dạng hình ảnh có bản đồ màu\n",
        "    plt.imshow(cm, interpolation='nearest', cmap=cmap)\n",
        "    plt.title(title)\n",
        "    plt.colorbar()\n",
        "\n",
        "    # Xác định các dấu tích và nhãn cho các lớp trên trục\n",
        "    tick_marks = np.arange(len(classes))\n",
        "    plt.xticks(tick_marks, classes, rotation=90)\n",
        "    plt.yticks(tick_marks, classes)\n",
        "\n",
        "    fmt = '.0f'\n",
        "    # Thêm chú thích văn bản vào biểu đồ để chỉ ra các giá trị trong các ô\n",
        "    thresh = cm.max() / 2.0\n",
        "    for i, j in itertools.product(range(cm.shape[0]), range(cm.shape[1])):\n",
        "        plt.text(j, i, format(cm[i, j], fmt), horizontalalignment=\"center\", color=\"white\" if cm[i, j] > thresh else \"black\")\n",
        "\n",
        "    # Label các trục\n",
        "    plt.ylabel('True label')\n",
        "    plt.xlabel('Predicted label')\n",
        "\n",
        "    # Đảm bảo bố cục biểu đồ chặt chẽ\n",
        "    plt.tight_layout()\n",
        "    # Hiển thị biểu đồ\n",
        "    plt.show()\n",
        "\n",
        "# Tính toán accuracy và F1 score\n",
        "accuracy = accuracy_score(y_true, y_pred)\n",
        "f1 = f1_score(y_true, y_pred, average='macro')\n",
        "\n",
        "# Hiển thị accuracy và F1 score\n",
        "print(f\"Accuracy: {accuracy:.4f}\")\n",
        "print(f\"F1 Score: {f1:.4f}\")\n",
        "\n",
        "# Nhận ma trận nhầm lẫn nếu có một số lượng nhỏ labels\n",
        "if len(labels_list) <= 150:\n",
        "    # Tính toán ma trận nhầm lẫn\n",
        "    cm = confusion_matrix(y_true, y_pred)\n",
        "\n",
        "    # Vẽ ma trận nhầm lẫn bằng hàm đã xác định\n",
        "    plot_confusion_matrix(cm, labels_list, figsize=(8, 6))\n",
        "\n",
        "# Cuối cùng, hiển thị báo cáo phân loại\n",
        "print()\n",
        "print(\"Classification report:\")\n",
        "print()\n",
        "print(classification_report(y_true, y_pred, target_names=labels_list, digits=4))"
      ]
    },
    {
      "cell_type": "code",
      "execution_count": 32,
      "metadata": {
        "id": "hyFje1cDkaLR"
      },
      "outputs": [],
      "source": [
        "# Lưu mô hình đã được đào tạo\n",
        "# Nó sẽ tuần tự hóa mô hình và các trọng số liên quan của nó\n",
        "# có thể tải lại và sử dụng mô hình\n",
        "# trong tương lai mà không cần phải đào tạo lại.\n",
        "trainer.save_model()"
      ]
    },
    {
      "cell_type": "code",
      "execution_count": 33,
      "metadata": {
        "colab": {
          "base_uri": "https://localhost:8080/"
        },
        "id": "CqXr_YqAkaLR",
        "outputId": "57670ae2-99a8-4b42-caa2-4126a154cf51"
      },
      "outputs": [
        {
          "name": "stderr",
          "output_type": "stream",
          "text": [
            "Using a slow image processor as `use_fast` is unset and a slow processor was saved with this model. `use_fast=True` will be the default behavior in v4.52, even if the model was saved with a slow processor. This will result in minor differences in outputs. You'll still be able to use a slow processor with `use_fast=False`.\n",
            "Device set to use cuda:0\n"
          ]
        }
      ],
      "source": [
        "# Nhập hàm 'pipeline' từ thư viện 'transformers'.\n",
        "from transformers import pipeline\n",
        "\n",
        "# Tạo pipeline cho các tác vụ phân loại hình ảnh.\n",
        "# Chỉ định 'model_name' và 'device' để sử dụng cho suy luận.\n",
        "# - 'model_name': Tên của mô hình pre-trained sẽ được sử dụng để phân loại hình ảnh.\n",
        "# - 'device': Chỉ định thiết bị sử dụng để chạy mô hình (0 for GPU, -1 for CPU).\n",
        "pipe = pipeline('image-classification', model=model_name, device=0)"
      ]
    },
    {
      "cell_type": "code",
      "execution_count": 34,
      "metadata": {
        "id": "LY6XtWgOkaLR"
      },
      "outputs": [],
      "source": [
        "# # # Accessing an image from the 'test_data' dataset using index 1.\n",
        "# # image = test_data[1][\"image\"]\n",
        "\n",
        "# from PIL import Image\n",
        "\n",
        "# # Load ảnh từ file\n",
        "# image_path = \"/content/gengar_4.jpeg\"\n",
        "# image = Image.open(image_path)\n",
        "\n",
        "# # Hiển thị biến 'image'\n",
        "# image"
      ]
    },
    {
      "cell_type": "code",
      "execution_count": 35,
      "metadata": {
        "id": "rsDV0o9bkaLR"
      },
      "outputs": [],
      "source": [
        "# # Áp dụng hàm 'pipe' để xử lý biến 'image'.\n",
        "# pipe(image)"
      ]
    },
    {
      "cell_type": "code",
      "execution_count": 36,
      "metadata": {
        "id": "kJ3WM0XykaLR"
      },
      "outputs": [],
      "source": [
        "# id2label[test_data[1][\"label\"]]"
      ]
    }
  ],
  "metadata": {
    "accelerator": "GPU",
    "colab": {
      "gpuType": "T4",
      "provenance": []
    },
    "kaggle": {
      "accelerator": "none",
      "dataSources": [
        {
          "datasetId": 1909705,
          "sourceId": 3134515,
          "sourceType": "datasetVersion"
        }
      ],
      "dockerImageVersionId": 30559,
      "isGpuEnabled": false,
      "isInternetEnabled": true,
      "language": "python",
      "sourceType": "notebook"
    },
    "kernelspec": {
      "display_name": "Python 3",
      "name": "python3"
    },
    "language_info": {
      "codemirror_mode": {
        "name": "ipython",
        "version": 3
      },
      "file_extension": ".py",
      "mimetype": "text/x-python",
      "name": "python",
      "nbconvert_exporter": "python",
      "pygments_lexer": "ipython3",
      "version": "3.10.12"
    },
    "widgets": {
      "application/vnd.jupyter.widget-state+json": {
        "0022ec9affe1486d967ee67f096676a8": {
          "model_module": "@jupyter-widgets/controls",
          "model_module_version": "1.5.0",
          "model_name": "DescriptionStyleModel",
          "state": {
            "_model_module": "@jupyter-widgets/controls",
            "_model_module_version": "1.5.0",
            "_model_name": "DescriptionStyleModel",
            "_view_count": null,
            "_view_module": "@jupyter-widgets/base",
            "_view_module_version": "1.2.0",
            "_view_name": "StyleView",
            "description_width": ""
          }
        },
        "0429e55b78de4a7483e9b322fec68d66": {
          "model_module": "@jupyter-widgets/controls",
          "model_module_version": "1.5.0",
          "model_name": "HTMLModel",
          "state": {
            "_dom_classes": [],
            "_model_module": "@jupyter-widgets/controls",
            "_model_module_version": "1.5.0",
            "_model_name": "HTMLModel",
            "_view_count": null,
            "_view_module": "@jupyter-widgets/controls",
            "_view_module_version": "1.5.0",
            "_view_name": "HTMLView",
            "description": "",
            "description_tooltip": null,
            "layout": "IPY_MODEL_5b5f29d528cc40be9bc7be0c987dde60",
            "placeholder": "​",
            "style": "IPY_MODEL_7454a259a9b44ab6b4518904da30b4e5",
            "value": " 343M/343M [00:04&lt;00:00, 35.0MB/s]"
          }
        },
        "0817508f2ab64f10ad87f3faaf2879dc": {
          "model_module": "@jupyter-widgets/base",
          "model_module_version": "1.2.0",
          "model_name": "LayoutModel",
          "state": {
            "_model_module": "@jupyter-widgets/base",
            "_model_module_version": "1.2.0",
            "_model_name": "LayoutModel",
            "_view_count": null,
            "_view_module": "@jupyter-widgets/base",
            "_view_module_version": "1.2.0",
            "_view_name": "LayoutView",
            "align_content": null,
            "align_items": null,
            "align_self": null,
            "border": null,
            "bottom": null,
            "display": null,
            "flex": null,
            "flex_flow": null,
            "grid_area": null,
            "grid_auto_columns": null,
            "grid_auto_flow": null,
            "grid_auto_rows": null,
            "grid_column": null,
            "grid_gap": null,
            "grid_row": null,
            "grid_template_areas": null,
            "grid_template_columns": null,
            "grid_template_rows": null,
            "height": null,
            "justify_content": null,
            "justify_items": null,
            "left": null,
            "margin": null,
            "max_height": null,
            "max_width": null,
            "min_height": null,
            "min_width": null,
            "object_fit": null,
            "object_position": null,
            "order": null,
            "overflow": null,
            "overflow_x": null,
            "overflow_y": null,
            "padding": null,
            "right": null,
            "top": null,
            "visibility": null,
            "width": null
          }
        },
        "0a81598fd4e747ea972865200b1e9330": {
          "model_module": "@jupyter-widgets/base",
          "model_module_version": "1.2.0",
          "model_name": "LayoutModel",
          "state": {
            "_model_module": "@jupyter-widgets/base",
            "_model_module_version": "1.2.0",
            "_model_name": "LayoutModel",
            "_view_count": null,
            "_view_module": "@jupyter-widgets/base",
            "_view_module_version": "1.2.0",
            "_view_name": "LayoutView",
            "align_content": null,
            "align_items": null,
            "align_self": null,
            "border": null,
            "bottom": null,
            "display": null,
            "flex": null,
            "flex_flow": null,
            "grid_area": null,
            "grid_auto_columns": null,
            "grid_auto_flow": null,
            "grid_auto_rows": null,
            "grid_column": null,
            "grid_gap": null,
            "grid_row": null,
            "grid_template_areas": null,
            "grid_template_columns": null,
            "grid_template_rows": null,
            "height": null,
            "justify_content": null,
            "justify_items": null,
            "left": null,
            "margin": null,
            "max_height": null,
            "max_width": null,
            "min_height": null,
            "min_width": null,
            "object_fit": null,
            "object_position": null,
            "order": null,
            "overflow": null,
            "overflow_x": null,
            "overflow_y": null,
            "padding": null,
            "right": null,
            "top": null,
            "visibility": null,
            "width": null
          }
        },
        "0ca825fa61ac42218919361924f72f48": {
          "model_module": "@jupyter-widgets/controls",
          "model_module_version": "1.5.0",
          "model_name": "DescriptionStyleModel",
          "state": {
            "_model_module": "@jupyter-widgets/controls",
            "_model_module_version": "1.5.0",
            "_model_name": "DescriptionStyleModel",
            "_view_count": null,
            "_view_module": "@jupyter-widgets/base",
            "_view_module_version": "1.2.0",
            "_view_name": "StyleView",
            "description_width": ""
          }
        },
        "0d5c7f627ca14595aa976006ba07a936": {
          "model_module": "@jupyter-widgets/controls",
          "model_module_version": "1.5.0",
          "model_name": "HTMLModel",
          "state": {
            "_dom_classes": [],
            "_model_module": "@jupyter-widgets/controls",
            "_model_module_version": "1.5.0",
            "_model_name": "HTMLModel",
            "_view_count": null,
            "_view_module": "@jupyter-widgets/controls",
            "_view_module_version": "1.5.0",
            "_view_name": "HTMLView",
            "description": "",
            "description_tooltip": null,
            "layout": "IPY_MODEL_3c632574970245339d6f203af3cf2a97",
            "placeholder": "​",
            "style": "IPY_MODEL_212523e8f266478db33a0be3a5751d9a",
            "value": "model.safetensors: 100%"
          }
        },
        "0ee38dad1fe94219b18b8aca0c8e6d31": {
          "model_module": "@jupyter-widgets/controls",
          "model_module_version": "1.5.0",
          "model_name": "ProgressStyleModel",
          "state": {
            "_model_module": "@jupyter-widgets/controls",
            "_model_module_version": "1.5.0",
            "_model_name": "ProgressStyleModel",
            "_view_count": null,
            "_view_module": "@jupyter-widgets/base",
            "_view_module_version": "1.2.0",
            "_view_name": "StyleView",
            "bar_color": null,
            "description_width": ""
          }
        },
        "0ef566c017914837a981ce0981338409": {
          "model_module": "@jupyter-widgets/base",
          "model_module_version": "1.2.0",
          "model_name": "LayoutModel",
          "state": {
            "_model_module": "@jupyter-widgets/base",
            "_model_module_version": "1.2.0",
            "_model_name": "LayoutModel",
            "_view_count": null,
            "_view_module": "@jupyter-widgets/base",
            "_view_module_version": "1.2.0",
            "_view_name": "LayoutView",
            "align_content": null,
            "align_items": null,
            "align_self": null,
            "border": null,
            "bottom": null,
            "display": null,
            "flex": null,
            "flex_flow": null,
            "grid_area": null,
            "grid_auto_columns": null,
            "grid_auto_flow": null,
            "grid_auto_rows": null,
            "grid_column": null,
            "grid_gap": null,
            "grid_row": null,
            "grid_template_areas": null,
            "grid_template_columns": null,
            "grid_template_rows": null,
            "height": null,
            "justify_content": null,
            "justify_items": null,
            "left": null,
            "margin": null,
            "max_height": null,
            "max_width": null,
            "min_height": null,
            "min_width": null,
            "object_fit": null,
            "object_position": null,
            "order": null,
            "overflow": null,
            "overflow_x": null,
            "overflow_y": null,
            "padding": null,
            "right": null,
            "top": null,
            "visibility": null,
            "width": null
          }
        },
        "15ce523a35c9438b977e4c25766c5177": {
          "model_module": "@jupyter-widgets/controls",
          "model_module_version": "1.5.0",
          "model_name": "HBoxModel",
          "state": {
            "_dom_classes": [],
            "_model_module": "@jupyter-widgets/controls",
            "_model_module_version": "1.5.0",
            "_model_name": "HBoxModel",
            "_view_count": null,
            "_view_module": "@jupyter-widgets/controls",
            "_view_module_version": "1.5.0",
            "_view_name": "HBoxView",
            "box_style": "",
            "children": [
              "IPY_MODEL_da661815a2284825bb5940d05e1238cb",
              "IPY_MODEL_b25632d7d0d94b4cbed77672d48b33d4",
              "IPY_MODEL_2f59e34734fe4ee692a7398279f8fe26"
            ],
            "layout": "IPY_MODEL_1d4f337059934e17820c206305fdc502"
          }
        },
        "16b5e56f1dbf49e8bb3575e82c3508be": {
          "model_module": "@jupyter-widgets/base",
          "model_module_version": "1.2.0",
          "model_name": "LayoutModel",
          "state": {
            "_model_module": "@jupyter-widgets/base",
            "_model_module_version": "1.2.0",
            "_model_name": "LayoutModel",
            "_view_count": null,
            "_view_module": "@jupyter-widgets/base",
            "_view_module_version": "1.2.0",
            "_view_name": "LayoutView",
            "align_content": null,
            "align_items": null,
            "align_self": null,
            "border": null,
            "bottom": null,
            "display": null,
            "flex": null,
            "flex_flow": null,
            "grid_area": null,
            "grid_auto_columns": null,
            "grid_auto_flow": null,
            "grid_auto_rows": null,
            "grid_column": null,
            "grid_gap": null,
            "grid_row": null,
            "grid_template_areas": null,
            "grid_template_columns": null,
            "grid_template_rows": null,
            "height": null,
            "justify_content": null,
            "justify_items": null,
            "left": null,
            "margin": null,
            "max_height": null,
            "max_width": null,
            "min_height": null,
            "min_width": null,
            "object_fit": null,
            "object_position": null,
            "order": null,
            "overflow": null,
            "overflow_x": null,
            "overflow_y": null,
            "padding": null,
            "right": null,
            "top": null,
            "visibility": null,
            "width": null
          }
        },
        "1d4f337059934e17820c206305fdc502": {
          "model_module": "@jupyter-widgets/base",
          "model_module_version": "1.2.0",
          "model_name": "LayoutModel",
          "state": {
            "_model_module": "@jupyter-widgets/base",
            "_model_module_version": "1.2.0",
            "_model_name": "LayoutModel",
            "_view_count": null,
            "_view_module": "@jupyter-widgets/base",
            "_view_module_version": "1.2.0",
            "_view_name": "LayoutView",
            "align_content": null,
            "align_items": null,
            "align_self": null,
            "border": null,
            "bottom": null,
            "display": null,
            "flex": null,
            "flex_flow": null,
            "grid_area": null,
            "grid_auto_columns": null,
            "grid_auto_flow": null,
            "grid_auto_rows": null,
            "grid_column": null,
            "grid_gap": null,
            "grid_row": null,
            "grid_template_areas": null,
            "grid_template_columns": null,
            "grid_template_rows": null,
            "height": null,
            "justify_content": null,
            "justify_items": null,
            "left": null,
            "margin": null,
            "max_height": null,
            "max_width": null,
            "min_height": null,
            "min_width": null,
            "object_fit": null,
            "object_position": null,
            "order": null,
            "overflow": null,
            "overflow_x": null,
            "overflow_y": null,
            "padding": null,
            "right": null,
            "top": null,
            "visibility": null,
            "width": null
          }
        },
        "20e47ce9f70145a89ab08363d9c65716": {
          "model_module": "@jupyter-widgets/base",
          "model_module_version": "1.2.0",
          "model_name": "LayoutModel",
          "state": {
            "_model_module": "@jupyter-widgets/base",
            "_model_module_version": "1.2.0",
            "_model_name": "LayoutModel",
            "_view_count": null,
            "_view_module": "@jupyter-widgets/base",
            "_view_module_version": "1.2.0",
            "_view_name": "LayoutView",
            "align_content": null,
            "align_items": null,
            "align_self": null,
            "border": null,
            "bottom": null,
            "display": null,
            "flex": null,
            "flex_flow": null,
            "grid_area": null,
            "grid_auto_columns": null,
            "grid_auto_flow": null,
            "grid_auto_rows": null,
            "grid_column": null,
            "grid_gap": null,
            "grid_row": null,
            "grid_template_areas": null,
            "grid_template_columns": null,
            "grid_template_rows": null,
            "height": null,
            "justify_content": null,
            "justify_items": null,
            "left": null,
            "margin": null,
            "max_height": null,
            "max_width": null,
            "min_height": null,
            "min_width": null,
            "object_fit": null,
            "object_position": null,
            "order": null,
            "overflow": null,
            "overflow_x": null,
            "overflow_y": null,
            "padding": null,
            "right": null,
            "top": null,
            "visibility": null,
            "width": null
          }
        },
        "212523e8f266478db33a0be3a5751d9a": {
          "model_module": "@jupyter-widgets/controls",
          "model_module_version": "1.5.0",
          "model_name": "DescriptionStyleModel",
          "state": {
            "_model_module": "@jupyter-widgets/controls",
            "_model_module_version": "1.5.0",
            "_model_name": "DescriptionStyleModel",
            "_view_count": null,
            "_view_module": "@jupyter-widgets/base",
            "_view_module_version": "1.2.0",
            "_view_name": "StyleView",
            "description_width": ""
          }
        },
        "28cdfa5cc840425b9a4c7a10258a3b4d": {
          "model_module": "@jupyter-widgets/controls",
          "model_module_version": "1.5.0",
          "model_name": "DescriptionStyleModel",
          "state": {
            "_model_module": "@jupyter-widgets/controls",
            "_model_module_version": "1.5.0",
            "_model_name": "DescriptionStyleModel",
            "_view_count": null,
            "_view_module": "@jupyter-widgets/base",
            "_view_module_version": "1.2.0",
            "_view_name": "StyleView",
            "description_width": ""
          }
        },
        "2c31252b0c0c439bad3116273e14cd06": {
          "model_module": "@jupyter-widgets/controls",
          "model_module_version": "1.5.0",
          "model_name": "HTMLModel",
          "state": {
            "_dom_classes": [],
            "_model_module": "@jupyter-widgets/controls",
            "_model_module_version": "1.5.0",
            "_model_name": "HTMLModel",
            "_view_count": null,
            "_view_module": "@jupyter-widgets/controls",
            "_view_module_version": "1.5.0",
            "_view_name": "HTMLView",
            "description": "",
            "description_tooltip": null,
            "layout": "IPY_MODEL_58da6e93de6c4906b91b26812a31df23",
            "placeholder": "​",
            "style": "IPY_MODEL_28cdfa5cc840425b9a4c7a10258a3b4d",
            "value": "Casting the dataset: 100%"
          }
        },
        "2c668649a66d4a76a0d4d34e3e906d27": {
          "model_module": "@jupyter-widgets/controls",
          "model_module_version": "1.5.0",
          "model_name": "FloatProgressModel",
          "state": {
            "_dom_classes": [],
            "_model_module": "@jupyter-widgets/controls",
            "_model_module_version": "1.5.0",
            "_model_name": "FloatProgressModel",
            "_view_count": null,
            "_view_module": "@jupyter-widgets/controls",
            "_view_module_version": "1.5.0",
            "_view_name": "ProgressView",
            "bar_style": "success",
            "description": "",
            "description_tooltip": null,
            "layout": "IPY_MODEL_16b5e56f1dbf49e8bb3575e82c3508be",
            "max": 13606,
            "min": 0,
            "orientation": "horizontal",
            "style": "IPY_MODEL_4f6bb62c8efa485f855ab8ccc628f3eb",
            "value": 13606
          }
        },
        "2c9f22a78a0244cdb145281a7b1e734d": {
          "model_module": "@jupyter-widgets/base",
          "model_module_version": "1.2.0",
          "model_name": "LayoutModel",
          "state": {
            "_model_module": "@jupyter-widgets/base",
            "_model_module_version": "1.2.0",
            "_model_name": "LayoutModel",
            "_view_count": null,
            "_view_module": "@jupyter-widgets/base",
            "_view_module_version": "1.2.0",
            "_view_name": "LayoutView",
            "align_content": null,
            "align_items": null,
            "align_self": null,
            "border": null,
            "bottom": null,
            "display": null,
            "flex": null,
            "flex_flow": null,
            "grid_area": null,
            "grid_auto_columns": null,
            "grid_auto_flow": null,
            "grid_auto_rows": null,
            "grid_column": null,
            "grid_gap": null,
            "grid_row": null,
            "grid_template_areas": null,
            "grid_template_columns": null,
            "grid_template_rows": null,
            "height": null,
            "justify_content": null,
            "justify_items": null,
            "left": null,
            "margin": null,
            "max_height": null,
            "max_width": null,
            "min_height": null,
            "min_width": null,
            "object_fit": null,
            "object_position": null,
            "order": null,
            "overflow": null,
            "overflow_x": null,
            "overflow_y": null,
            "padding": null,
            "right": null,
            "top": null,
            "visibility": null,
            "width": null
          }
        },
        "2cdb8179ed544e24a04664a5ee4aeca9": {
          "model_module": "@jupyter-widgets/base",
          "model_module_version": "1.2.0",
          "model_name": "LayoutModel",
          "state": {
            "_model_module": "@jupyter-widgets/base",
            "_model_module_version": "1.2.0",
            "_model_name": "LayoutModel",
            "_view_count": null,
            "_view_module": "@jupyter-widgets/base",
            "_view_module_version": "1.2.0",
            "_view_name": "LayoutView",
            "align_content": null,
            "align_items": null,
            "align_self": null,
            "border": null,
            "bottom": null,
            "display": null,
            "flex": null,
            "flex_flow": null,
            "grid_area": null,
            "grid_auto_columns": null,
            "grid_auto_flow": null,
            "grid_auto_rows": null,
            "grid_column": null,
            "grid_gap": null,
            "grid_row": null,
            "grid_template_areas": null,
            "grid_template_columns": null,
            "grid_template_rows": null,
            "height": null,
            "justify_content": null,
            "justify_items": null,
            "left": null,
            "margin": null,
            "max_height": null,
            "max_width": null,
            "min_height": null,
            "min_width": null,
            "object_fit": null,
            "object_position": null,
            "order": null,
            "overflow": null,
            "overflow_x": null,
            "overflow_y": null,
            "padding": null,
            "right": null,
            "top": null,
            "visibility": null,
            "width": null
          }
        },
        "2f59e34734fe4ee692a7398279f8fe26": {
          "model_module": "@jupyter-widgets/controls",
          "model_module_version": "1.5.0",
          "model_name": "HTMLModel",
          "state": {
            "_dom_classes": [],
            "_model_module": "@jupyter-widgets/controls",
            "_model_module_version": "1.5.0",
            "_model_name": "HTMLModel",
            "_view_count": null,
            "_view_module": "@jupyter-widgets/controls",
            "_view_module_version": "1.5.0",
            "_view_name": "HTMLView",
            "description": "",
            "description_tooltip": null,
            "layout": "IPY_MODEL_e39f05c451e14dba877a5bdf1ce0ec20",
            "placeholder": "​",
            "style": "IPY_MODEL_69810842441f42e8aa7bb75b88d92aa8",
            "value": " 4.20k/? [00:00&lt;00:00, 145kB/s]"
          }
        },
        "33cef0b91f7d457789603f4f1ba99cd1": {
          "model_module": "@jupyter-widgets/base",
          "model_module_version": "1.2.0",
          "model_name": "LayoutModel",
          "state": {
            "_model_module": "@jupyter-widgets/base",
            "_model_module_version": "1.2.0",
            "_model_name": "LayoutModel",
            "_view_count": null,
            "_view_module": "@jupyter-widgets/base",
            "_view_module_version": "1.2.0",
            "_view_name": "LayoutView",
            "align_content": null,
            "align_items": null,
            "align_self": null,
            "border": null,
            "bottom": null,
            "display": null,
            "flex": null,
            "flex_flow": null,
            "grid_area": null,
            "grid_auto_columns": null,
            "grid_auto_flow": null,
            "grid_auto_rows": null,
            "grid_column": null,
            "grid_gap": null,
            "grid_row": null,
            "grid_template_areas": null,
            "grid_template_columns": null,
            "grid_template_rows": null,
            "height": null,
            "justify_content": null,
            "justify_items": null,
            "left": null,
            "margin": null,
            "max_height": null,
            "max_width": null,
            "min_height": null,
            "min_width": null,
            "object_fit": null,
            "object_position": null,
            "order": null,
            "overflow": null,
            "overflow_x": null,
            "overflow_y": null,
            "padding": null,
            "right": null,
            "top": null,
            "visibility": null,
            "width": null
          }
        },
        "3785c5deb94445638a6741795d6dad47": {
          "model_module": "@jupyter-widgets/controls",
          "model_module_version": "1.5.0",
          "model_name": "HTMLModel",
          "state": {
            "_dom_classes": [],
            "_model_module": "@jupyter-widgets/controls",
            "_model_module_version": "1.5.0",
            "_model_name": "HTMLModel",
            "_view_count": null,
            "_view_module": "@jupyter-widgets/controls",
            "_view_module_version": "1.5.0",
            "_view_name": "HTMLView",
            "description": "",
            "description_tooltip": null,
            "layout": "IPY_MODEL_33cef0b91f7d457789603f4f1ba99cd1",
            "placeholder": "​",
            "style": "IPY_MODEL_5b8a7dd72d5b4dfebc7fc3523c6d6dbb",
            "value": "preprocessor_config.json: 100%"
          }
        },
        "3c0dcd4c2ff14f13be5b815bfe3c9aeb": {
          "model_module": "@jupyter-widgets/controls",
          "model_module_version": "1.5.0",
          "model_name": "FloatProgressModel",
          "state": {
            "_dom_classes": [],
            "_model_module": "@jupyter-widgets/controls",
            "_model_module_version": "1.5.0",
            "_model_name": "FloatProgressModel",
            "_view_count": null,
            "_view_module": "@jupyter-widgets/controls",
            "_view_module_version": "1.5.0",
            "_view_name": "ProgressView",
            "bar_style": "success",
            "description": "",
            "description_tooltip": null,
            "layout": "IPY_MODEL_ea23eb8d5b0b4088825bfd1c5b04cd6f",
            "max": 13606,
            "min": 0,
            "orientation": "horizontal",
            "style": "IPY_MODEL_9f9175bef7f3438f9e49407e5cf3be9a",
            "value": 13606
          }
        },
        "3c632574970245339d6f203af3cf2a97": {
          "model_module": "@jupyter-widgets/base",
          "model_module_version": "1.2.0",
          "model_name": "LayoutModel",
          "state": {
            "_model_module": "@jupyter-widgets/base",
            "_model_module_version": "1.2.0",
            "_model_name": "LayoutModel",
            "_view_count": null,
            "_view_module": "@jupyter-widgets/base",
            "_view_module_version": "1.2.0",
            "_view_name": "LayoutView",
            "align_content": null,
            "align_items": null,
            "align_self": null,
            "border": null,
            "bottom": null,
            "display": null,
            "flex": null,
            "flex_flow": null,
            "grid_area": null,
            "grid_auto_columns": null,
            "grid_auto_flow": null,
            "grid_auto_rows": null,
            "grid_column": null,
            "grid_gap": null,
            "grid_row": null,
            "grid_template_areas": null,
            "grid_template_columns": null,
            "grid_template_rows": null,
            "height": null,
            "justify_content": null,
            "justify_items": null,
            "left": null,
            "margin": null,
            "max_height": null,
            "max_width": null,
            "min_height": null,
            "min_width": null,
            "object_fit": null,
            "object_position": null,
            "order": null,
            "overflow": null,
            "overflow_x": null,
            "overflow_y": null,
            "padding": null,
            "right": null,
            "top": null,
            "visibility": null,
            "width": null
          }
        },
        "3eae2082967946e9a7f8ca15a33bd46d": {
          "model_module": "@jupyter-widgets/base",
          "model_module_version": "1.2.0",
          "model_name": "LayoutModel",
          "state": {
            "_model_module": "@jupyter-widgets/base",
            "_model_module_version": "1.2.0",
            "_model_name": "LayoutModel",
            "_view_count": null,
            "_view_module": "@jupyter-widgets/base",
            "_view_module_version": "1.2.0",
            "_view_name": "LayoutView",
            "align_content": null,
            "align_items": null,
            "align_self": null,
            "border": null,
            "bottom": null,
            "display": null,
            "flex": null,
            "flex_flow": null,
            "grid_area": null,
            "grid_auto_columns": null,
            "grid_auto_flow": null,
            "grid_auto_rows": null,
            "grid_column": null,
            "grid_gap": null,
            "grid_row": null,
            "grid_template_areas": null,
            "grid_template_columns": null,
            "grid_template_rows": null,
            "height": null,
            "justify_content": null,
            "justify_items": null,
            "left": null,
            "margin": null,
            "max_height": null,
            "max_width": null,
            "min_height": null,
            "min_width": null,
            "object_fit": null,
            "object_position": null,
            "order": null,
            "overflow": null,
            "overflow_x": null,
            "overflow_y": null,
            "padding": null,
            "right": null,
            "top": null,
            "visibility": null,
            "width": null
          }
        },
        "4f6bb62c8efa485f855ab8ccc628f3eb": {
          "model_module": "@jupyter-widgets/controls",
          "model_module_version": "1.5.0",
          "model_name": "ProgressStyleModel",
          "state": {
            "_model_module": "@jupyter-widgets/controls",
            "_model_module_version": "1.5.0",
            "_model_name": "ProgressStyleModel",
            "_view_count": null,
            "_view_module": "@jupyter-widgets/base",
            "_view_module_version": "1.2.0",
            "_view_name": "StyleView",
            "bar_color": null,
            "description_width": ""
          }
        },
        "553dc700f10441f6957c060f6be4254b": {
          "model_module": "@jupyter-widgets/controls",
          "model_module_version": "1.5.0",
          "model_name": "FloatProgressModel",
          "state": {
            "_dom_classes": [],
            "_model_module": "@jupyter-widgets/controls",
            "_model_module_version": "1.5.0",
            "_model_name": "FloatProgressModel",
            "_view_count": null,
            "_view_module": "@jupyter-widgets/controls",
            "_view_module_version": "1.5.0",
            "_view_name": "ProgressView",
            "bar_style": "success",
            "description": "",
            "description_tooltip": null,
            "layout": "IPY_MODEL_0817508f2ab64f10ad87f3faaf2879dc",
            "max": 325,
            "min": 0,
            "orientation": "horizontal",
            "style": "IPY_MODEL_b0c1469a52254814a68ca8a63f532112",
            "value": 325
          }
        },
        "589dafb62a8c4393ae139c616ceeaa65": {
          "model_module": "@jupyter-widgets/base",
          "model_module_version": "1.2.0",
          "model_name": "LayoutModel",
          "state": {
            "_model_module": "@jupyter-widgets/base",
            "_model_module_version": "1.2.0",
            "_model_name": "LayoutModel",
            "_view_count": null,
            "_view_module": "@jupyter-widgets/base",
            "_view_module_version": "1.2.0",
            "_view_name": "LayoutView",
            "align_content": null,
            "align_items": null,
            "align_self": null,
            "border": null,
            "bottom": null,
            "display": null,
            "flex": null,
            "flex_flow": null,
            "grid_area": null,
            "grid_auto_columns": null,
            "grid_auto_flow": null,
            "grid_auto_rows": null,
            "grid_column": null,
            "grid_gap": null,
            "grid_row": null,
            "grid_template_areas": null,
            "grid_template_columns": null,
            "grid_template_rows": null,
            "height": null,
            "justify_content": null,
            "justify_items": null,
            "left": null,
            "margin": null,
            "max_height": null,
            "max_width": null,
            "min_height": null,
            "min_width": null,
            "object_fit": null,
            "object_position": null,
            "order": null,
            "overflow": null,
            "overflow_x": null,
            "overflow_y": null,
            "padding": null,
            "right": null,
            "top": null,
            "visibility": null,
            "width": null
          }
        },
        "58da6e93de6c4906b91b26812a31df23": {
          "model_module": "@jupyter-widgets/base",
          "model_module_version": "1.2.0",
          "model_name": "LayoutModel",
          "state": {
            "_model_module": "@jupyter-widgets/base",
            "_model_module_version": "1.2.0",
            "_model_name": "LayoutModel",
            "_view_count": null,
            "_view_module": "@jupyter-widgets/base",
            "_view_module_version": "1.2.0",
            "_view_name": "LayoutView",
            "align_content": null,
            "align_items": null,
            "align_self": null,
            "border": null,
            "bottom": null,
            "display": null,
            "flex": null,
            "flex_flow": null,
            "grid_area": null,
            "grid_auto_columns": null,
            "grid_auto_flow": null,
            "grid_auto_rows": null,
            "grid_column": null,
            "grid_gap": null,
            "grid_row": null,
            "grid_template_areas": null,
            "grid_template_columns": null,
            "grid_template_rows": null,
            "height": null,
            "justify_content": null,
            "justify_items": null,
            "left": null,
            "margin": null,
            "max_height": null,
            "max_width": null,
            "min_height": null,
            "min_width": null,
            "object_fit": null,
            "object_position": null,
            "order": null,
            "overflow": null,
            "overflow_x": null,
            "overflow_y": null,
            "padding": null,
            "right": null,
            "top": null,
            "visibility": null,
            "width": null
          }
        },
        "5b5f29d528cc40be9bc7be0c987dde60": {
          "model_module": "@jupyter-widgets/base",
          "model_module_version": "1.2.0",
          "model_name": "LayoutModel",
          "state": {
            "_model_module": "@jupyter-widgets/base",
            "_model_module_version": "1.2.0",
            "_model_name": "LayoutModel",
            "_view_count": null,
            "_view_module": "@jupyter-widgets/base",
            "_view_module_version": "1.2.0",
            "_view_name": "LayoutView",
            "align_content": null,
            "align_items": null,
            "align_self": null,
            "border": null,
            "bottom": null,
            "display": null,
            "flex": null,
            "flex_flow": null,
            "grid_area": null,
            "grid_auto_columns": null,
            "grid_auto_flow": null,
            "grid_auto_rows": null,
            "grid_column": null,
            "grid_gap": null,
            "grid_row": null,
            "grid_template_areas": null,
            "grid_template_columns": null,
            "grid_template_rows": null,
            "height": null,
            "justify_content": null,
            "justify_items": null,
            "left": null,
            "margin": null,
            "max_height": null,
            "max_width": null,
            "min_height": null,
            "min_width": null,
            "object_fit": null,
            "object_position": null,
            "order": null,
            "overflow": null,
            "overflow_x": null,
            "overflow_y": null,
            "padding": null,
            "right": null,
            "top": null,
            "visibility": null,
            "width": null
          }
        },
        "5b8a7dd72d5b4dfebc7fc3523c6d6dbb": {
          "model_module": "@jupyter-widgets/controls",
          "model_module_version": "1.5.0",
          "model_name": "DescriptionStyleModel",
          "state": {
            "_model_module": "@jupyter-widgets/controls",
            "_model_module_version": "1.5.0",
            "_model_name": "DescriptionStyleModel",
            "_view_count": null,
            "_view_module": "@jupyter-widgets/base",
            "_view_module_version": "1.2.0",
            "_view_name": "StyleView",
            "description_width": ""
          }
        },
        "65a86e2cd457449f8dff33d29bc04bcb": {
          "model_module": "@jupyter-widgets/base",
          "model_module_version": "1.2.0",
          "model_name": "LayoutModel",
          "state": {
            "_model_module": "@jupyter-widgets/base",
            "_model_module_version": "1.2.0",
            "_model_name": "LayoutModel",
            "_view_count": null,
            "_view_module": "@jupyter-widgets/base",
            "_view_module_version": "1.2.0",
            "_view_name": "LayoutView",
            "align_content": null,
            "align_items": null,
            "align_self": null,
            "border": null,
            "bottom": null,
            "display": null,
            "flex": null,
            "flex_flow": null,
            "grid_area": null,
            "grid_auto_columns": null,
            "grid_auto_flow": null,
            "grid_auto_rows": null,
            "grid_column": null,
            "grid_gap": null,
            "grid_row": null,
            "grid_template_areas": null,
            "grid_template_columns": null,
            "grid_template_rows": null,
            "height": null,
            "justify_content": null,
            "justify_items": null,
            "left": null,
            "margin": null,
            "max_height": null,
            "max_width": null,
            "min_height": null,
            "min_width": null,
            "object_fit": null,
            "object_position": null,
            "order": null,
            "overflow": null,
            "overflow_x": null,
            "overflow_y": null,
            "padding": null,
            "right": null,
            "top": null,
            "visibility": null,
            "width": null
          }
        },
        "69810842441f42e8aa7bb75b88d92aa8": {
          "model_module": "@jupyter-widgets/controls",
          "model_module_version": "1.5.0",
          "model_name": "DescriptionStyleModel",
          "state": {
            "_model_module": "@jupyter-widgets/controls",
            "_model_module_version": "1.5.0",
            "_model_name": "DescriptionStyleModel",
            "_view_count": null,
            "_view_module": "@jupyter-widgets/base",
            "_view_module_version": "1.2.0",
            "_view_name": "StyleView",
            "description_width": ""
          }
        },
        "6c45be90137a4b40b108fe27fe008162": {
          "model_module": "@jupyter-widgets/controls",
          "model_module_version": "1.5.0",
          "model_name": "HBoxModel",
          "state": {
            "_dom_classes": [],
            "_model_module": "@jupyter-widgets/controls",
            "_model_module_version": "1.5.0",
            "_model_name": "HBoxModel",
            "_view_count": null,
            "_view_module": "@jupyter-widgets/controls",
            "_view_module_version": "1.5.0",
            "_view_name": "HBoxView",
            "box_style": "",
            "children": [
              "IPY_MODEL_8c67bb2c791d4d6f9dc2ff136332d9cd",
              "IPY_MODEL_3c0dcd4c2ff14f13be5b815bfe3c9aeb",
              "IPY_MODEL_fbc1f77b36b94bb0a4315391369ba5fb"
            ],
            "layout": "IPY_MODEL_2cdb8179ed544e24a04664a5ee4aeca9"
          }
        },
        "7454a259a9b44ab6b4518904da30b4e5": {
          "model_module": "@jupyter-widgets/controls",
          "model_module_version": "1.5.0",
          "model_name": "DescriptionStyleModel",
          "state": {
            "_model_module": "@jupyter-widgets/controls",
            "_model_module_version": "1.5.0",
            "_model_name": "DescriptionStyleModel",
            "_view_count": null,
            "_view_module": "@jupyter-widgets/base",
            "_view_module_version": "1.2.0",
            "_view_name": "StyleView",
            "description_width": ""
          }
        },
        "75608cd2bf2c40c18a3399be32eda2bb": {
          "model_module": "@jupyter-widgets/base",
          "model_module_version": "1.2.0",
          "model_name": "LayoutModel",
          "state": {
            "_model_module": "@jupyter-widgets/base",
            "_model_module_version": "1.2.0",
            "_model_name": "LayoutModel",
            "_view_count": null,
            "_view_module": "@jupyter-widgets/base",
            "_view_module_version": "1.2.0",
            "_view_name": "LayoutView",
            "align_content": null,
            "align_items": null,
            "align_self": null,
            "border": null,
            "bottom": null,
            "display": null,
            "flex": null,
            "flex_flow": null,
            "grid_area": null,
            "grid_auto_columns": null,
            "grid_auto_flow": null,
            "grid_auto_rows": null,
            "grid_column": null,
            "grid_gap": null,
            "grid_row": null,
            "grid_template_areas": null,
            "grid_template_columns": null,
            "grid_template_rows": null,
            "height": null,
            "justify_content": null,
            "justify_items": null,
            "left": null,
            "margin": null,
            "max_height": null,
            "max_width": null,
            "min_height": null,
            "min_width": null,
            "object_fit": null,
            "object_position": null,
            "order": null,
            "overflow": null,
            "overflow_x": null,
            "overflow_y": null,
            "padding": null,
            "right": null,
            "top": null,
            "visibility": null,
            "width": null
          }
        },
        "7abf610fc2ce4b01bff7cde05023ad8c": {
          "model_module": "@jupyter-widgets/controls",
          "model_module_version": "1.5.0",
          "model_name": "FloatProgressModel",
          "state": {
            "_dom_classes": [],
            "_model_module": "@jupyter-widgets/controls",
            "_model_module_version": "1.5.0",
            "_model_name": "FloatProgressModel",
            "_view_count": null,
            "_view_module": "@jupyter-widgets/controls",
            "_view_module_version": "1.5.0",
            "_view_name": "ProgressView",
            "bar_style": "success",
            "description": "",
            "description_tooltip": null,
            "layout": "IPY_MODEL_0ef566c017914837a981ce0981338409",
            "max": 343223968,
            "min": 0,
            "orientation": "horizontal",
            "style": "IPY_MODEL_b0003780b7fa4c6ea736de9363ef3bf0",
            "value": 343223968
          }
        },
        "876d95be3b7d4316a395746ff3c72ea4": {
          "model_module": "@jupyter-widgets/controls",
          "model_module_version": "1.5.0",
          "model_name": "FloatProgressModel",
          "state": {
            "_dom_classes": [],
            "_model_module": "@jupyter-widgets/controls",
            "_model_module_version": "1.5.0",
            "_model_name": "FloatProgressModel",
            "_view_count": null,
            "_view_module": "@jupyter-widgets/controls",
            "_view_module_version": "1.5.0",
            "_view_name": "ProgressView",
            "bar_style": "success",
            "description": "",
            "description_tooltip": null,
            "layout": "IPY_MODEL_3eae2082967946e9a7f8ca15a33bd46d",
            "max": 726,
            "min": 0,
            "orientation": "horizontal",
            "style": "IPY_MODEL_0ee38dad1fe94219b18b8aca0c8e6d31",
            "value": 726
          }
        },
        "8bea19f12566458a917c2e18712e4cf7": {
          "model_module": "@jupyter-widgets/base",
          "model_module_version": "1.2.0",
          "model_name": "LayoutModel",
          "state": {
            "_model_module": "@jupyter-widgets/base",
            "_model_module_version": "1.2.0",
            "_model_name": "LayoutModel",
            "_view_count": null,
            "_view_module": "@jupyter-widgets/base",
            "_view_module_version": "1.2.0",
            "_view_name": "LayoutView",
            "align_content": null,
            "align_items": null,
            "align_self": null,
            "border": null,
            "bottom": null,
            "display": null,
            "flex": null,
            "flex_flow": null,
            "grid_area": null,
            "grid_auto_columns": null,
            "grid_auto_flow": null,
            "grid_auto_rows": null,
            "grid_column": null,
            "grid_gap": null,
            "grid_row": null,
            "grid_template_areas": null,
            "grid_template_columns": null,
            "grid_template_rows": null,
            "height": null,
            "justify_content": null,
            "justify_items": null,
            "left": null,
            "margin": null,
            "max_height": null,
            "max_width": null,
            "min_height": null,
            "min_width": null,
            "object_fit": null,
            "object_position": null,
            "order": null,
            "overflow": null,
            "overflow_x": null,
            "overflow_y": null,
            "padding": null,
            "right": null,
            "top": null,
            "visibility": null,
            "width": "20px"
          }
        },
        "8c67bb2c791d4d6f9dc2ff136332d9cd": {
          "model_module": "@jupyter-widgets/controls",
          "model_module_version": "1.5.0",
          "model_name": "HTMLModel",
          "state": {
            "_dom_classes": [],
            "_model_module": "@jupyter-widgets/controls",
            "_model_module_version": "1.5.0",
            "_model_name": "HTMLModel",
            "_view_count": null,
            "_view_module": "@jupyter-widgets/controls",
            "_view_module_version": "1.5.0",
            "_view_name": "HTMLView",
            "description": "",
            "description_tooltip": null,
            "layout": "IPY_MODEL_f6d516942b50418d9aa365e18e2bf8a7",
            "placeholder": "​",
            "style": "IPY_MODEL_0022ec9affe1486d967ee67f096676a8",
            "value": "Map: 100%"
          }
        },
        "8e7abc45f7b745618f02be6473cb030f": {
          "model_module": "@jupyter-widgets/controls",
          "model_module_version": "1.5.0",
          "model_name": "HTMLModel",
          "state": {
            "_dom_classes": [],
            "_model_module": "@jupyter-widgets/controls",
            "_model_module_version": "1.5.0",
            "_model_name": "HTMLModel",
            "_view_count": null,
            "_view_module": "@jupyter-widgets/controls",
            "_view_module_version": "1.5.0",
            "_view_name": "HTMLView",
            "description": "",
            "description_tooltip": null,
            "layout": "IPY_MODEL_20e47ce9f70145a89ab08363d9c65716",
            "placeholder": "​",
            "style": "IPY_MODEL_a2697f60b5934e8aa56ca885c488cfd6",
            "value": " 13606/13606 [00:00&lt;00:00, 808473.23 examples/s]"
          }
        },
        "90267ef43b944c8b8fa151d9743d5982": {
          "model_module": "@jupyter-widgets/controls",
          "model_module_version": "1.5.0",
          "model_name": "HBoxModel",
          "state": {
            "_dom_classes": [],
            "_model_module": "@jupyter-widgets/controls",
            "_model_module_version": "1.5.0",
            "_model_name": "HBoxModel",
            "_view_count": null,
            "_view_module": "@jupyter-widgets/controls",
            "_view_module_version": "1.5.0",
            "_view_name": "HBoxView",
            "box_style": "",
            "children": [
              "IPY_MODEL_3785c5deb94445638a6741795d6dad47",
              "IPY_MODEL_553dc700f10441f6957c060f6be4254b",
              "IPY_MODEL_94d698a7cba1401e8ab3e289527636d7"
            ],
            "layout": "IPY_MODEL_589dafb62a8c4393ae139c616ceeaa65"
          }
        },
        "9250846d8ea94e239ac9e6b588dc7f29": {
          "model_module": "@jupyter-widgets/controls",
          "model_module_version": "1.5.0",
          "model_name": "DescriptionStyleModel",
          "state": {
            "_model_module": "@jupyter-widgets/controls",
            "_model_module_version": "1.5.0",
            "_model_name": "DescriptionStyleModel",
            "_view_count": null,
            "_view_module": "@jupyter-widgets/base",
            "_view_module_version": "1.2.0",
            "_view_name": "StyleView",
            "description_width": ""
          }
        },
        "93971d68ce894ccdad55c30c24f61c9a": {
          "model_module": "@jupyter-widgets/base",
          "model_module_version": "1.2.0",
          "model_name": "LayoutModel",
          "state": {
            "_model_module": "@jupyter-widgets/base",
            "_model_module_version": "1.2.0",
            "_model_name": "LayoutModel",
            "_view_count": null,
            "_view_module": "@jupyter-widgets/base",
            "_view_module_version": "1.2.0",
            "_view_name": "LayoutView",
            "align_content": null,
            "align_items": null,
            "align_self": null,
            "border": null,
            "bottom": null,
            "display": null,
            "flex": null,
            "flex_flow": null,
            "grid_area": null,
            "grid_auto_columns": null,
            "grid_auto_flow": null,
            "grid_auto_rows": null,
            "grid_column": null,
            "grid_gap": null,
            "grid_row": null,
            "grid_template_areas": null,
            "grid_template_columns": null,
            "grid_template_rows": null,
            "height": null,
            "justify_content": null,
            "justify_items": null,
            "left": null,
            "margin": null,
            "max_height": null,
            "max_width": null,
            "min_height": null,
            "min_width": null,
            "object_fit": null,
            "object_position": null,
            "order": null,
            "overflow": null,
            "overflow_x": null,
            "overflow_y": null,
            "padding": null,
            "right": null,
            "top": null,
            "visibility": null,
            "width": null
          }
        },
        "94d698a7cba1401e8ab3e289527636d7": {
          "model_module": "@jupyter-widgets/controls",
          "model_module_version": "1.5.0",
          "model_name": "HTMLModel",
          "state": {
            "_dom_classes": [],
            "_model_module": "@jupyter-widgets/controls",
            "_model_module_version": "1.5.0",
            "_model_name": "HTMLModel",
            "_view_count": null,
            "_view_module": "@jupyter-widgets/controls",
            "_view_module_version": "1.5.0",
            "_view_name": "HTMLView",
            "description": "",
            "description_tooltip": null,
            "layout": "IPY_MODEL_2c9f22a78a0244cdb145281a7b1e734d",
            "placeholder": "​",
            "style": "IPY_MODEL_0ca825fa61ac42218919361924f72f48",
            "value": " 325/325 [00:00&lt;00:00, 6.79kB/s]"
          }
        },
        "989f5d944e034cd2a66a8e95ffcbb4e1": {
          "model_module": "@jupyter-widgets/controls",
          "model_module_version": "1.5.0",
          "model_name": "DescriptionStyleModel",
          "state": {
            "_model_module": "@jupyter-widgets/controls",
            "_model_module_version": "1.5.0",
            "_model_name": "DescriptionStyleModel",
            "_view_count": null,
            "_view_module": "@jupyter-widgets/base",
            "_view_module_version": "1.2.0",
            "_view_name": "StyleView",
            "description_width": ""
          }
        },
        "9b562759ca894b7e9d622b04a7bd79fe": {
          "model_module": "@jupyter-widgets/base",
          "model_module_version": "1.2.0",
          "model_name": "LayoutModel",
          "state": {
            "_model_module": "@jupyter-widgets/base",
            "_model_module_version": "1.2.0",
            "_model_name": "LayoutModel",
            "_view_count": null,
            "_view_module": "@jupyter-widgets/base",
            "_view_module_version": "1.2.0",
            "_view_name": "LayoutView",
            "align_content": null,
            "align_items": null,
            "align_self": null,
            "border": null,
            "bottom": null,
            "display": null,
            "flex": null,
            "flex_flow": null,
            "grid_area": null,
            "grid_auto_columns": null,
            "grid_auto_flow": null,
            "grid_auto_rows": null,
            "grid_column": null,
            "grid_gap": null,
            "grid_row": null,
            "grid_template_areas": null,
            "grid_template_columns": null,
            "grid_template_rows": null,
            "height": null,
            "justify_content": null,
            "justify_items": null,
            "left": null,
            "margin": null,
            "max_height": null,
            "max_width": null,
            "min_height": null,
            "min_width": null,
            "object_fit": null,
            "object_position": null,
            "order": null,
            "overflow": null,
            "overflow_x": null,
            "overflow_y": null,
            "padding": null,
            "right": null,
            "top": null,
            "visibility": null,
            "width": null
          }
        },
        "9f9175bef7f3438f9e49407e5cf3be9a": {
          "model_module": "@jupyter-widgets/controls",
          "model_module_version": "1.5.0",
          "model_name": "ProgressStyleModel",
          "state": {
            "_model_module": "@jupyter-widgets/controls",
            "_model_module_version": "1.5.0",
            "_model_name": "ProgressStyleModel",
            "_view_count": null,
            "_view_module": "@jupyter-widgets/base",
            "_view_module_version": "1.2.0",
            "_view_name": "StyleView",
            "bar_color": null,
            "description_width": ""
          }
        },
        "a21f4984844c44cfbed4d94631f90b95": {
          "model_module": "@jupyter-widgets/base",
          "model_module_version": "1.2.0",
          "model_name": "LayoutModel",
          "state": {
            "_model_module": "@jupyter-widgets/base",
            "_model_module_version": "1.2.0",
            "_model_name": "LayoutModel",
            "_view_count": null,
            "_view_module": "@jupyter-widgets/base",
            "_view_module_version": "1.2.0",
            "_view_name": "LayoutView",
            "align_content": null,
            "align_items": null,
            "align_self": null,
            "border": null,
            "bottom": null,
            "display": null,
            "flex": null,
            "flex_flow": null,
            "grid_area": null,
            "grid_auto_columns": null,
            "grid_auto_flow": null,
            "grid_auto_rows": null,
            "grid_column": null,
            "grid_gap": null,
            "grid_row": null,
            "grid_template_areas": null,
            "grid_template_columns": null,
            "grid_template_rows": null,
            "height": null,
            "justify_content": null,
            "justify_items": null,
            "left": null,
            "margin": null,
            "max_height": null,
            "max_width": null,
            "min_height": null,
            "min_width": null,
            "object_fit": null,
            "object_position": null,
            "order": null,
            "overflow": null,
            "overflow_x": null,
            "overflow_y": null,
            "padding": null,
            "right": null,
            "top": null,
            "visibility": null,
            "width": null
          }
        },
        "a2697f60b5934e8aa56ca885c488cfd6": {
          "model_module": "@jupyter-widgets/controls",
          "model_module_version": "1.5.0",
          "model_name": "DescriptionStyleModel",
          "state": {
            "_model_module": "@jupyter-widgets/controls",
            "_model_module_version": "1.5.0",
            "_model_name": "DescriptionStyleModel",
            "_view_count": null,
            "_view_module": "@jupyter-widgets/base",
            "_view_module_version": "1.2.0",
            "_view_name": "StyleView",
            "description_width": ""
          }
        },
        "b0003780b7fa4c6ea736de9363ef3bf0": {
          "model_module": "@jupyter-widgets/controls",
          "model_module_version": "1.5.0",
          "model_name": "ProgressStyleModel",
          "state": {
            "_model_module": "@jupyter-widgets/controls",
            "_model_module_version": "1.5.0",
            "_model_name": "ProgressStyleModel",
            "_view_count": null,
            "_view_module": "@jupyter-widgets/base",
            "_view_module_version": "1.2.0",
            "_view_name": "StyleView",
            "bar_color": null,
            "description_width": ""
          }
        },
        "b0c1469a52254814a68ca8a63f532112": {
          "model_module": "@jupyter-widgets/controls",
          "model_module_version": "1.5.0",
          "model_name": "ProgressStyleModel",
          "state": {
            "_model_module": "@jupyter-widgets/controls",
            "_model_module_version": "1.5.0",
            "_model_name": "ProgressStyleModel",
            "_view_count": null,
            "_view_module": "@jupyter-widgets/base",
            "_view_module_version": "1.2.0",
            "_view_name": "StyleView",
            "bar_color": null,
            "description_width": ""
          }
        },
        "b25632d7d0d94b4cbed77672d48b33d4": {
          "model_module": "@jupyter-widgets/controls",
          "model_module_version": "1.5.0",
          "model_name": "FloatProgressModel",
          "state": {
            "_dom_classes": [],
            "_model_module": "@jupyter-widgets/controls",
            "_model_module_version": "1.5.0",
            "_model_name": "FloatProgressModel",
            "_view_count": null,
            "_view_module": "@jupyter-widgets/controls",
            "_view_module_version": "1.5.0",
            "_view_name": "ProgressView",
            "bar_style": "success",
            "description": "",
            "description_tooltip": null,
            "layout": "IPY_MODEL_8bea19f12566458a917c2e18712e4cf7",
            "max": 1,
            "min": 0,
            "orientation": "horizontal",
            "style": "IPY_MODEL_bb45a57f60a741c4b2b73e208e5500ec",
            "value": 1
          }
        },
        "b5d7afb041144c5e935e88c6dd92f666": {
          "model_module": "@jupyter-widgets/controls",
          "model_module_version": "1.5.0",
          "model_name": "HTMLModel",
          "state": {
            "_dom_classes": [],
            "_model_module": "@jupyter-widgets/controls",
            "_model_module_version": "1.5.0",
            "_model_name": "HTMLModel",
            "_view_count": null,
            "_view_module": "@jupyter-widgets/controls",
            "_view_module_version": "1.5.0",
            "_view_name": "HTMLView",
            "description": "",
            "description_tooltip": null,
            "layout": "IPY_MODEL_f99736905dc04ff392410ec62fb79585",
            "placeholder": "​",
            "style": "IPY_MODEL_989f5d944e034cd2a66a8e95ffcbb4e1",
            "value": " 726/726 [00:00&lt;00:00, 41.1kB/s]"
          }
        },
        "bb45a57f60a741c4b2b73e208e5500ec": {
          "model_module": "@jupyter-widgets/controls",
          "model_module_version": "1.5.0",
          "model_name": "ProgressStyleModel",
          "state": {
            "_model_module": "@jupyter-widgets/controls",
            "_model_module_version": "1.5.0",
            "_model_name": "ProgressStyleModel",
            "_view_count": null,
            "_view_module": "@jupyter-widgets/base",
            "_view_module_version": "1.2.0",
            "_view_name": "StyleView",
            "bar_color": null,
            "description_width": ""
          }
        },
        "bd8487b6b725411b8be982c5f8d77bfa": {
          "model_module": "@jupyter-widgets/controls",
          "model_module_version": "1.5.0",
          "model_name": "HBoxModel",
          "state": {
            "_dom_classes": [],
            "_model_module": "@jupyter-widgets/controls",
            "_model_module_version": "1.5.0",
            "_model_name": "HBoxModel",
            "_view_count": null,
            "_view_module": "@jupyter-widgets/controls",
            "_view_module_version": "1.5.0",
            "_view_name": "HBoxView",
            "box_style": "",
            "children": [
              "IPY_MODEL_c30c7feb2375423894103713b6710d79",
              "IPY_MODEL_876d95be3b7d4316a395746ff3c72ea4",
              "IPY_MODEL_b5d7afb041144c5e935e88c6dd92f666"
            ],
            "layout": "IPY_MODEL_75608cd2bf2c40c18a3399be32eda2bb"
          }
        },
        "c30c7feb2375423894103713b6710d79": {
          "model_module": "@jupyter-widgets/controls",
          "model_module_version": "1.5.0",
          "model_name": "HTMLModel",
          "state": {
            "_dom_classes": [],
            "_model_module": "@jupyter-widgets/controls",
            "_model_module_version": "1.5.0",
            "_model_name": "HTMLModel",
            "_view_count": null,
            "_view_module": "@jupyter-widgets/controls",
            "_view_module_version": "1.5.0",
            "_view_name": "HTMLView",
            "description": "",
            "description_tooltip": null,
            "layout": "IPY_MODEL_65a86e2cd457449f8dff33d29bc04bcb",
            "placeholder": "​",
            "style": "IPY_MODEL_f2013bd35df04b8e9268e89adebcef70",
            "value": "config.json: 100%"
          }
        },
        "ca5a73da8d05499db74be7b6503d5bda": {
          "model_module": "@jupyter-widgets/controls",
          "model_module_version": "1.5.0",
          "model_name": "DescriptionStyleModel",
          "state": {
            "_model_module": "@jupyter-widgets/controls",
            "_model_module_version": "1.5.0",
            "_model_name": "DescriptionStyleModel",
            "_view_count": null,
            "_view_module": "@jupyter-widgets/base",
            "_view_module_version": "1.2.0",
            "_view_name": "StyleView",
            "description_width": ""
          }
        },
        "cc4d2ea9cb7e45bebc481a6dfdc01331": {
          "model_module": "@jupyter-widgets/controls",
          "model_module_version": "1.5.0",
          "model_name": "HBoxModel",
          "state": {
            "_dom_classes": [],
            "_model_module": "@jupyter-widgets/controls",
            "_model_module_version": "1.5.0",
            "_model_name": "HBoxModel",
            "_view_count": null,
            "_view_module": "@jupyter-widgets/controls",
            "_view_module_version": "1.5.0",
            "_view_name": "HBoxView",
            "box_style": "",
            "children": [
              "IPY_MODEL_2c31252b0c0c439bad3116273e14cd06",
              "IPY_MODEL_2c668649a66d4a76a0d4d34e3e906d27",
              "IPY_MODEL_8e7abc45f7b745618f02be6473cb030f"
            ],
            "layout": "IPY_MODEL_9b562759ca894b7e9d622b04a7bd79fe"
          }
        },
        "ce681056a97740faba3eb85b298fd595": {
          "model_module": "@jupyter-widgets/controls",
          "model_module_version": "1.5.0",
          "model_name": "HBoxModel",
          "state": {
            "_dom_classes": [],
            "_model_module": "@jupyter-widgets/controls",
            "_model_module_version": "1.5.0",
            "_model_name": "HBoxModel",
            "_view_count": null,
            "_view_module": "@jupyter-widgets/controls",
            "_view_module_version": "1.5.0",
            "_view_name": "HBoxView",
            "box_style": "",
            "children": [
              "IPY_MODEL_0d5c7f627ca14595aa976006ba07a936",
              "IPY_MODEL_7abf610fc2ce4b01bff7cde05023ad8c",
              "IPY_MODEL_0429e55b78de4a7483e9b322fec68d66"
            ],
            "layout": "IPY_MODEL_0a81598fd4e747ea972865200b1e9330"
          }
        },
        "da661815a2284825bb5940d05e1238cb": {
          "model_module": "@jupyter-widgets/controls",
          "model_module_version": "1.5.0",
          "model_name": "HTMLModel",
          "state": {
            "_dom_classes": [],
            "_model_module": "@jupyter-widgets/controls",
            "_model_module_version": "1.5.0",
            "_model_name": "HTMLModel",
            "_view_count": null,
            "_view_module": "@jupyter-widgets/controls",
            "_view_module_version": "1.5.0",
            "_view_name": "HTMLView",
            "description": "",
            "description_tooltip": null,
            "layout": "IPY_MODEL_93971d68ce894ccdad55c30c24f61c9a",
            "placeholder": "​",
            "style": "IPY_MODEL_9250846d8ea94e239ac9e6b588dc7f29",
            "value": "Downloading builder script: "
          }
        },
        "e39f05c451e14dba877a5bdf1ce0ec20": {
          "model_module": "@jupyter-widgets/base",
          "model_module_version": "1.2.0",
          "model_name": "LayoutModel",
          "state": {
            "_model_module": "@jupyter-widgets/base",
            "_model_module_version": "1.2.0",
            "_model_name": "LayoutModel",
            "_view_count": null,
            "_view_module": "@jupyter-widgets/base",
            "_view_module_version": "1.2.0",
            "_view_name": "LayoutView",
            "align_content": null,
            "align_items": null,
            "align_self": null,
            "border": null,
            "bottom": null,
            "display": null,
            "flex": null,
            "flex_flow": null,
            "grid_area": null,
            "grid_auto_columns": null,
            "grid_auto_flow": null,
            "grid_auto_rows": null,
            "grid_column": null,
            "grid_gap": null,
            "grid_row": null,
            "grid_template_areas": null,
            "grid_template_columns": null,
            "grid_template_rows": null,
            "height": null,
            "justify_content": null,
            "justify_items": null,
            "left": null,
            "margin": null,
            "max_height": null,
            "max_width": null,
            "min_height": null,
            "min_width": null,
            "object_fit": null,
            "object_position": null,
            "order": null,
            "overflow": null,
            "overflow_x": null,
            "overflow_y": null,
            "padding": null,
            "right": null,
            "top": null,
            "visibility": null,
            "width": null
          }
        },
        "ea23eb8d5b0b4088825bfd1c5b04cd6f": {
          "model_module": "@jupyter-widgets/base",
          "model_module_version": "1.2.0",
          "model_name": "LayoutModel",
          "state": {
            "_model_module": "@jupyter-widgets/base",
            "_model_module_version": "1.2.0",
            "_model_name": "LayoutModel",
            "_view_count": null,
            "_view_module": "@jupyter-widgets/base",
            "_view_module_version": "1.2.0",
            "_view_name": "LayoutView",
            "align_content": null,
            "align_items": null,
            "align_self": null,
            "border": null,
            "bottom": null,
            "display": null,
            "flex": null,
            "flex_flow": null,
            "grid_area": null,
            "grid_auto_columns": null,
            "grid_auto_flow": null,
            "grid_auto_rows": null,
            "grid_column": null,
            "grid_gap": null,
            "grid_row": null,
            "grid_template_areas": null,
            "grid_template_columns": null,
            "grid_template_rows": null,
            "height": null,
            "justify_content": null,
            "justify_items": null,
            "left": null,
            "margin": null,
            "max_height": null,
            "max_width": null,
            "min_height": null,
            "min_width": null,
            "object_fit": null,
            "object_position": null,
            "order": null,
            "overflow": null,
            "overflow_x": null,
            "overflow_y": null,
            "padding": null,
            "right": null,
            "top": null,
            "visibility": null,
            "width": null
          }
        },
        "f2013bd35df04b8e9268e89adebcef70": {
          "model_module": "@jupyter-widgets/controls",
          "model_module_version": "1.5.0",
          "model_name": "DescriptionStyleModel",
          "state": {
            "_model_module": "@jupyter-widgets/controls",
            "_model_module_version": "1.5.0",
            "_model_name": "DescriptionStyleModel",
            "_view_count": null,
            "_view_module": "@jupyter-widgets/base",
            "_view_module_version": "1.2.0",
            "_view_name": "StyleView",
            "description_width": ""
          }
        },
        "f6d516942b50418d9aa365e18e2bf8a7": {
          "model_module": "@jupyter-widgets/base",
          "model_module_version": "1.2.0",
          "model_name": "LayoutModel",
          "state": {
            "_model_module": "@jupyter-widgets/base",
            "_model_module_version": "1.2.0",
            "_model_name": "LayoutModel",
            "_view_count": null,
            "_view_module": "@jupyter-widgets/base",
            "_view_module_version": "1.2.0",
            "_view_name": "LayoutView",
            "align_content": null,
            "align_items": null,
            "align_self": null,
            "border": null,
            "bottom": null,
            "display": null,
            "flex": null,
            "flex_flow": null,
            "grid_area": null,
            "grid_auto_columns": null,
            "grid_auto_flow": null,
            "grid_auto_rows": null,
            "grid_column": null,
            "grid_gap": null,
            "grid_row": null,
            "grid_template_areas": null,
            "grid_template_columns": null,
            "grid_template_rows": null,
            "height": null,
            "justify_content": null,
            "justify_items": null,
            "left": null,
            "margin": null,
            "max_height": null,
            "max_width": null,
            "min_height": null,
            "min_width": null,
            "object_fit": null,
            "object_position": null,
            "order": null,
            "overflow": null,
            "overflow_x": null,
            "overflow_y": null,
            "padding": null,
            "right": null,
            "top": null,
            "visibility": null,
            "width": null
          }
        },
        "f99736905dc04ff392410ec62fb79585": {
          "model_module": "@jupyter-widgets/base",
          "model_module_version": "1.2.0",
          "model_name": "LayoutModel",
          "state": {
            "_model_module": "@jupyter-widgets/base",
            "_model_module_version": "1.2.0",
            "_model_name": "LayoutModel",
            "_view_count": null,
            "_view_module": "@jupyter-widgets/base",
            "_view_module_version": "1.2.0",
            "_view_name": "LayoutView",
            "align_content": null,
            "align_items": null,
            "align_self": null,
            "border": null,
            "bottom": null,
            "display": null,
            "flex": null,
            "flex_flow": null,
            "grid_area": null,
            "grid_auto_columns": null,
            "grid_auto_flow": null,
            "grid_auto_rows": null,
            "grid_column": null,
            "grid_gap": null,
            "grid_row": null,
            "grid_template_areas": null,
            "grid_template_columns": null,
            "grid_template_rows": null,
            "height": null,
            "justify_content": null,
            "justify_items": null,
            "left": null,
            "margin": null,
            "max_height": null,
            "max_width": null,
            "min_height": null,
            "min_width": null,
            "object_fit": null,
            "object_position": null,
            "order": null,
            "overflow": null,
            "overflow_x": null,
            "overflow_y": null,
            "padding": null,
            "right": null,
            "top": null,
            "visibility": null,
            "width": null
          }
        },
        "fbc1f77b36b94bb0a4315391369ba5fb": {
          "model_module": "@jupyter-widgets/controls",
          "model_module_version": "1.5.0",
          "model_name": "HTMLModel",
          "state": {
            "_dom_classes": [],
            "_model_module": "@jupyter-widgets/controls",
            "_model_module_version": "1.5.0",
            "_model_name": "HTMLModel",
            "_view_count": null,
            "_view_module": "@jupyter-widgets/controls",
            "_view_module_version": "1.5.0",
            "_view_name": "HTMLView",
            "description": "",
            "description_tooltip": null,
            "layout": "IPY_MODEL_a21f4984844c44cfbed4d94631f90b95",
            "placeholder": "​",
            "style": "IPY_MODEL_ca5a73da8d05499db74be7b6503d5bda",
            "value": " 13606/13606 [00:00&lt;00:00, 268866.40 examples/s]"
          }
        }
      }
    }
  },
  "nbformat": 4,
  "nbformat_minor": 0
}
